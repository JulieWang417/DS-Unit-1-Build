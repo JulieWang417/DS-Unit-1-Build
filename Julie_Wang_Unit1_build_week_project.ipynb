{
  "nbformat": 4,
  "nbformat_minor": 0,
  "metadata": {
    "colab": {
      "name": "Julie_Wang_Unit1_build week project.ipynb",
      "provenance": [],
      "include_colab_link": true
    },
    "kernelspec": {
      "name": "python3",
      "display_name": "Python 3"
    }
  },
  "cells": [
    {
      "cell_type": "markdown",
      "metadata": {
        "id": "view-in-github",
        "colab_type": "text"
      },
      "source": [
        "<a href=\"https://colab.research.google.com/github/JulieWang417/DS-Unit-1-Build/blob/master/Julie_Wang_Unit1_build_week_project.ipynb\" target=\"_parent\"><img src=\"https://colab.research.google.com/assets/colab-badge.svg\" alt=\"Open In Colab\"/></a>"
      ]
    },
    {
      "cell_type": "markdown",
      "metadata": {
        "id": "lrVr7QKpl6Aq",
        "colab_type": "text"
      },
      "source": [
        "### We wondered: If “The Empire Strikes Back” is clearly the best of the bunch?"
      ]
    },
    {
      "cell_type": "markdown",
      "metadata": {
        "id": "O2IJKsNpnYfW",
        "colab_type": "text"
      },
      "source": [
        "We needed to addressing this question. To do this, I downloaded the data from  GitHub repository fivethirtyeight/data."
      ]
    },
    {
      "cell_type": "code",
      "metadata": {
        "id": "34x-ywp-c38o",
        "colab_type": "code",
        "colab": {
          "base_uri": "https://localhost:8080/",
          "height": 934
        },
        "outputId": "3eaa31bb-a00e-4cfd-844b-008afaf5e94d"
      },
      "source": [
        "import pandas as pd\n",
        "url = 'https://raw.githubusercontent.com/JulieWang417/data/master/star-wars-survey/StarWars.csv'\n",
        "star_wars = pd.read_csv(url, error_bad_lines=False, encoding=\"ISO-8859-1\")\n",
        "# We need to specify an encoding because the data set has some characters that aren't in Python's default utf-8 encoding.\n",
        "\n",
        "print(star_wars.shape)\n",
        "star_wars.head()\n"
      ],
      "execution_count": 1,
      "outputs": [
        {
          "output_type": "stream",
          "text": [
            "(1187, 38)\n"
          ],
          "name": "stdout"
        },
        {
          "output_type": "execute_result",
          "data": {
            "text/html": [
              "<div>\n",
              "<style scoped>\n",
              "    .dataframe tbody tr th:only-of-type {\n",
              "        vertical-align: middle;\n",
              "    }\n",
              "\n",
              "    .dataframe tbody tr th {\n",
              "        vertical-align: top;\n",
              "    }\n",
              "\n",
              "    .dataframe thead th {\n",
              "        text-align: right;\n",
              "    }\n",
              "</style>\n",
              "<table border=\"1\" class=\"dataframe\">\n",
              "  <thead>\n",
              "    <tr style=\"text-align: right;\">\n",
              "      <th></th>\n",
              "      <th>RespondentID</th>\n",
              "      <th>Have you seen any of the 6 films in the Star Wars franchise?</th>\n",
              "      <th>Do you consider yourself to be a fan of the Star Wars film franchise?</th>\n",
              "      <th>Which of the following Star Wars films have you seen? Please select all that apply.</th>\n",
              "      <th>Unnamed: 4</th>\n",
              "      <th>Unnamed: 5</th>\n",
              "      <th>Unnamed: 6</th>\n",
              "      <th>Unnamed: 7</th>\n",
              "      <th>Unnamed: 8</th>\n",
              "      <th>Please rank the Star Wars films in order of preference with 1 being your favorite film in the franchise and 6 being your least favorite film.</th>\n",
              "      <th>Unnamed: 10</th>\n",
              "      <th>Unnamed: 11</th>\n",
              "      <th>Unnamed: 12</th>\n",
              "      <th>Unnamed: 13</th>\n",
              "      <th>Unnamed: 14</th>\n",
              "      <th>Please state whether you view the following characters favorably, unfavorably, or are unfamiliar with him/her.</th>\n",
              "      <th>Unnamed: 16</th>\n",
              "      <th>Unnamed: 17</th>\n",
              "      <th>Unnamed: 18</th>\n",
              "      <th>Unnamed: 19</th>\n",
              "      <th>Unnamed: 20</th>\n",
              "      <th>Unnamed: 21</th>\n",
              "      <th>Unnamed: 22</th>\n",
              "      <th>Unnamed: 23</th>\n",
              "      <th>Unnamed: 24</th>\n",
              "      <th>Unnamed: 25</th>\n",
              "      <th>Unnamed: 26</th>\n",
              "      <th>Unnamed: 27</th>\n",
              "      <th>Unnamed: 28</th>\n",
              "      <th>Which character shot first?</th>\n",
              "      <th>Are you familiar with the Expanded Universe?</th>\n",
              "      <th>Do you consider yourself to be a fan of the Expanded Universe?æ</th>\n",
              "      <th>Do you consider yourself to be a fan of the Star Trek franchise?</th>\n",
              "      <th>Gender</th>\n",
              "      <th>Age</th>\n",
              "      <th>Household Income</th>\n",
              "      <th>Education</th>\n",
              "      <th>Location (Census Region)</th>\n",
              "    </tr>\n",
              "  </thead>\n",
              "  <tbody>\n",
              "    <tr>\n",
              "      <th>0</th>\n",
              "      <td>NaN</td>\n",
              "      <td>Response</td>\n",
              "      <td>Response</td>\n",
              "      <td>Star Wars: Episode I  The Phantom Menace</td>\n",
              "      <td>Star Wars: Episode II  Attack of the Clones</td>\n",
              "      <td>Star Wars: Episode III  Revenge of the Sith</td>\n",
              "      <td>Star Wars: Episode IV  A New Hope</td>\n",
              "      <td>Star Wars: Episode V The Empire Strikes Back</td>\n",
              "      <td>Star Wars: Episode VI Return of the Jedi</td>\n",
              "      <td>Star Wars: Episode I  The Phantom Menace</td>\n",
              "      <td>Star Wars: Episode II  Attack of the Clones</td>\n",
              "      <td>Star Wars: Episode III  Revenge of the Sith</td>\n",
              "      <td>Star Wars: Episode IV  A New Hope</td>\n",
              "      <td>Star Wars: Episode V The Empire Strikes Back</td>\n",
              "      <td>Star Wars: Episode VI Return of the Jedi</td>\n",
              "      <td>Han Solo</td>\n",
              "      <td>Luke Skywalker</td>\n",
              "      <td>Princess Leia Organa</td>\n",
              "      <td>Anakin Skywalker</td>\n",
              "      <td>Obi Wan Kenobi</td>\n",
              "      <td>Emperor Palpatine</td>\n",
              "      <td>Darth Vader</td>\n",
              "      <td>Lando Calrissian</td>\n",
              "      <td>Boba Fett</td>\n",
              "      <td>C-3P0</td>\n",
              "      <td>R2 D2</td>\n",
              "      <td>Jar Jar Binks</td>\n",
              "      <td>Padme Amidala</td>\n",
              "      <td>Yoda</td>\n",
              "      <td>Response</td>\n",
              "      <td>Response</td>\n",
              "      <td>Response</td>\n",
              "      <td>Response</td>\n",
              "      <td>Response</td>\n",
              "      <td>Response</td>\n",
              "      <td>Response</td>\n",
              "      <td>Response</td>\n",
              "      <td>Response</td>\n",
              "    </tr>\n",
              "    <tr>\n",
              "      <th>1</th>\n",
              "      <td>3.292880e+09</td>\n",
              "      <td>Yes</td>\n",
              "      <td>Yes</td>\n",
              "      <td>Star Wars: Episode I  The Phantom Menace</td>\n",
              "      <td>Star Wars: Episode II  Attack of the Clones</td>\n",
              "      <td>Star Wars: Episode III  Revenge of the Sith</td>\n",
              "      <td>Star Wars: Episode IV  A New Hope</td>\n",
              "      <td>Star Wars: Episode V The Empire Strikes Back</td>\n",
              "      <td>Star Wars: Episode VI Return of the Jedi</td>\n",
              "      <td>3</td>\n",
              "      <td>2</td>\n",
              "      <td>1</td>\n",
              "      <td>4</td>\n",
              "      <td>5</td>\n",
              "      <td>6</td>\n",
              "      <td>Very favorably</td>\n",
              "      <td>Very favorably</td>\n",
              "      <td>Very favorably</td>\n",
              "      <td>Very favorably</td>\n",
              "      <td>Very favorably</td>\n",
              "      <td>Very favorably</td>\n",
              "      <td>Very favorably</td>\n",
              "      <td>Unfamiliar (N/A)</td>\n",
              "      <td>Unfamiliar (N/A)</td>\n",
              "      <td>Very favorably</td>\n",
              "      <td>Very favorably</td>\n",
              "      <td>Very favorably</td>\n",
              "      <td>Very favorably</td>\n",
              "      <td>Very favorably</td>\n",
              "      <td>I don't understand this question</td>\n",
              "      <td>Yes</td>\n",
              "      <td>No</td>\n",
              "      <td>No</td>\n",
              "      <td>Male</td>\n",
              "      <td>18-29</td>\n",
              "      <td>NaN</td>\n",
              "      <td>High school degree</td>\n",
              "      <td>South Atlantic</td>\n",
              "    </tr>\n",
              "    <tr>\n",
              "      <th>2</th>\n",
              "      <td>3.292880e+09</td>\n",
              "      <td>No</td>\n",
              "      <td>NaN</td>\n",
              "      <td>NaN</td>\n",
              "      <td>NaN</td>\n",
              "      <td>NaN</td>\n",
              "      <td>NaN</td>\n",
              "      <td>NaN</td>\n",
              "      <td>NaN</td>\n",
              "      <td>NaN</td>\n",
              "      <td>NaN</td>\n",
              "      <td>NaN</td>\n",
              "      <td>NaN</td>\n",
              "      <td>NaN</td>\n",
              "      <td>NaN</td>\n",
              "      <td>NaN</td>\n",
              "      <td>NaN</td>\n",
              "      <td>NaN</td>\n",
              "      <td>NaN</td>\n",
              "      <td>NaN</td>\n",
              "      <td>NaN</td>\n",
              "      <td>NaN</td>\n",
              "      <td>NaN</td>\n",
              "      <td>NaN</td>\n",
              "      <td>NaN</td>\n",
              "      <td>NaN</td>\n",
              "      <td>NaN</td>\n",
              "      <td>NaN</td>\n",
              "      <td>NaN</td>\n",
              "      <td>NaN</td>\n",
              "      <td>NaN</td>\n",
              "      <td>NaN</td>\n",
              "      <td>Yes</td>\n",
              "      <td>Male</td>\n",
              "      <td>18-29</td>\n",
              "      <td>$0 - $24,999</td>\n",
              "      <td>Bachelor degree</td>\n",
              "      <td>West South Central</td>\n",
              "    </tr>\n",
              "    <tr>\n",
              "      <th>3</th>\n",
              "      <td>3.292765e+09</td>\n",
              "      <td>Yes</td>\n",
              "      <td>No</td>\n",
              "      <td>Star Wars: Episode I  The Phantom Menace</td>\n",
              "      <td>Star Wars: Episode II  Attack of the Clones</td>\n",
              "      <td>Star Wars: Episode III  Revenge of the Sith</td>\n",
              "      <td>NaN</td>\n",
              "      <td>NaN</td>\n",
              "      <td>NaN</td>\n",
              "      <td>1</td>\n",
              "      <td>2</td>\n",
              "      <td>3</td>\n",
              "      <td>4</td>\n",
              "      <td>5</td>\n",
              "      <td>6</td>\n",
              "      <td>Somewhat favorably</td>\n",
              "      <td>Somewhat favorably</td>\n",
              "      <td>Somewhat favorably</td>\n",
              "      <td>Somewhat favorably</td>\n",
              "      <td>Somewhat favorably</td>\n",
              "      <td>Unfamiliar (N/A)</td>\n",
              "      <td>Unfamiliar (N/A)</td>\n",
              "      <td>Unfamiliar (N/A)</td>\n",
              "      <td>Unfamiliar (N/A)</td>\n",
              "      <td>Unfamiliar (N/A)</td>\n",
              "      <td>Unfamiliar (N/A)</td>\n",
              "      <td>Unfamiliar (N/A)</td>\n",
              "      <td>Unfamiliar (N/A)</td>\n",
              "      <td>Unfamiliar (N/A)</td>\n",
              "      <td>I don't understand this question</td>\n",
              "      <td>No</td>\n",
              "      <td>NaN</td>\n",
              "      <td>No</td>\n",
              "      <td>Male</td>\n",
              "      <td>18-29</td>\n",
              "      <td>$0 - $24,999</td>\n",
              "      <td>High school degree</td>\n",
              "      <td>West North Central</td>\n",
              "    </tr>\n",
              "    <tr>\n",
              "      <th>4</th>\n",
              "      <td>3.292763e+09</td>\n",
              "      <td>Yes</td>\n",
              "      <td>Yes</td>\n",
              "      <td>Star Wars: Episode I  The Phantom Menace</td>\n",
              "      <td>Star Wars: Episode II  Attack of the Clones</td>\n",
              "      <td>Star Wars: Episode III  Revenge of the Sith</td>\n",
              "      <td>Star Wars: Episode IV  A New Hope</td>\n",
              "      <td>Star Wars: Episode V The Empire Strikes Back</td>\n",
              "      <td>Star Wars: Episode VI Return of the Jedi</td>\n",
              "      <td>5</td>\n",
              "      <td>6</td>\n",
              "      <td>1</td>\n",
              "      <td>2</td>\n",
              "      <td>4</td>\n",
              "      <td>3</td>\n",
              "      <td>Very favorably</td>\n",
              "      <td>Very favorably</td>\n",
              "      <td>Very favorably</td>\n",
              "      <td>Very favorably</td>\n",
              "      <td>Very favorably</td>\n",
              "      <td>Somewhat favorably</td>\n",
              "      <td>Very favorably</td>\n",
              "      <td>Somewhat favorably</td>\n",
              "      <td>Somewhat unfavorably</td>\n",
              "      <td>Very favorably</td>\n",
              "      <td>Very favorably</td>\n",
              "      <td>Very favorably</td>\n",
              "      <td>Very favorably</td>\n",
              "      <td>Very favorably</td>\n",
              "      <td>I don't understand this question</td>\n",
              "      <td>No</td>\n",
              "      <td>NaN</td>\n",
              "      <td>Yes</td>\n",
              "      <td>Male</td>\n",
              "      <td>18-29</td>\n",
              "      <td>$100,000 - $149,999</td>\n",
              "      <td>Some college or Associate degree</td>\n",
              "      <td>West North Central</td>\n",
              "    </tr>\n",
              "  </tbody>\n",
              "</table>\n",
              "</div>"
            ],
            "text/plain": [
              "   RespondentID  ... Location (Census Region)\n",
              "0           NaN  ...                 Response\n",
              "1  3.292880e+09  ...           South Atlantic\n",
              "2  3.292880e+09  ...       West South Central\n",
              "3  3.292765e+09  ...       West North Central\n",
              "4  3.292763e+09  ...       West North Central\n",
              "\n",
              "[5 rows x 38 columns]"
            ]
          },
          "metadata": {
            "tags": []
          },
          "execution_count": 1
        }
      ]
    },
    {
      "cell_type": "markdown",
      "metadata": {
        "id": "vdQlNA3gond3",
        "colab_type": "text"
      },
      "source": [
        "The data has several columns, including:\n",
        "\n",
        "**RespondentID** - An anonymized ID for the respondent (person taking the survey)\n",
        "**Gender** - The respondent's gender\n",
        "\n",
        "**Age** - The respondent's age\n",
        "\n",
        "**Household Income** - The respondent's income\n",
        "\n",
        "**Education** - The respondent's education level\n",
        "\n",
        "**Location** (Census Region) - The respondent's location\n",
        "\n",
        "**Have you seen any of the 6 films in the Star Wars franchise?** - Has a Yes or No response\n",
        "\n",
        "**Do you consider yourself to be a fan of the Star Wars film franchise?** - Has a Yes or No response"
      ]
    },
    {
      "cell_type": "markdown",
      "metadata": {
        "id": "c-NFb51qpITV",
        "colab_type": "text"
      },
      "source": [
        "There are several other columns containing answers to questions about the Star Wars movies. \n",
        "\n",
        "For some questions, the respondent had to check one or more boxes. This type of data is difficult to represent in columnar format. As a result, this data set needs a lot of cleaning."
      ]
    },
    {
      "cell_type": "markdown",
      "metadata": {
        "id": "EvGUVKYspRzI",
        "colab_type": "text"
      },
      "source": [
        "First, we'll need to remove the invalid rows. For example, RespondentID is supposed to be a unique ID for each respondent, but it's blank in some rows. You'll need to remove any rows with an invalid RespondentID."
      ]
    },
    {
      "cell_type": "code",
      "metadata": {
        "id": "AOJg9xTrjSna",
        "colab_type": "code",
        "colab": {
          "base_uri": "https://localhost:8080/",
          "height": 333
        },
        "outputId": "0705f579-fb1c-44d0-ebd4-a7426a9a13a6"
      },
      "source": [
        "star_wars.columns"
      ],
      "execution_count": 2,
      "outputs": [
        {
          "output_type": "execute_result",
          "data": {
            "text/plain": [
              "Index(['RespondentID',\n",
              "       'Have you seen any of the 6 films in the Star Wars franchise?',\n",
              "       'Do you consider yourself to be a fan of the Star Wars film franchise?',\n",
              "       'Which of the following Star Wars films have you seen? Please select all that apply.',\n",
              "       'Unnamed: 4', 'Unnamed: 5', 'Unnamed: 6', 'Unnamed: 7', 'Unnamed: 8',\n",
              "       'Please rank the Star Wars films in order of preference with 1 being your favorite film in the franchise and 6 being your least favorite film.',\n",
              "       'Unnamed: 10', 'Unnamed: 11', 'Unnamed: 12', 'Unnamed: 13',\n",
              "       'Unnamed: 14',\n",
              "       'Please state whether you view the following characters favorably, unfavorably, or are unfamiliar with him/her.',\n",
              "       'Unnamed: 16', 'Unnamed: 17', 'Unnamed: 18', 'Unnamed: 19',\n",
              "       'Unnamed: 20', 'Unnamed: 21', 'Unnamed: 22', 'Unnamed: 23',\n",
              "       'Unnamed: 24', 'Unnamed: 25', 'Unnamed: 26', 'Unnamed: 27',\n",
              "       'Unnamed: 28', 'Which character shot first?',\n",
              "       'Are you familiar with the Expanded Universe?',\n",
              "       'Do you consider yourself to be a fan of the Expanded Universe?æ',\n",
              "       'Do you consider yourself to be a fan of the Star Trek franchise?',\n",
              "       'Gender', 'Age', 'Household Income', 'Education',\n",
              "       'Location (Census Region)'],\n",
              "      dtype='object')"
            ]
          },
          "metadata": {
            "tags": []
          },
          "execution_count": 2
        }
      ]
    },
    {
      "cell_type": "code",
      "metadata": {
        "id": "XNYBuQzWpgeT",
        "colab_type": "code",
        "colab": {}
      },
      "source": [
        "# Remove any rows where RespondentID is NaN\n",
        "star_wars=star_wars[star_wars[\"RespondentID\"].notnull()]"
      ],
      "execution_count": 0,
      "outputs": []
    },
    {
      "cell_type": "code",
      "metadata": {
        "id": "x9ykGcKppqWV",
        "colab_type": "code",
        "colab": {
          "base_uri": "https://localhost:8080/",
          "height": 67
        },
        "outputId": "fbaaf970-3628-4c89-d9e7-089eb6ff3658"
      },
      "source": [
        "yes_no={\"Yes\":True,\"No\":False}\n",
        "star_wars[\"Have you seen any of the 6 films in the Star Wars franchise?\"].value_counts(dropna=False)\n",
        "# dropna=False, we can also see NaN index values.\n",
        "# normalize=True, returns the relative frequency by dividing all values by the sum of values."
      ],
      "execution_count": 4,
      "outputs": [
        {
          "output_type": "execute_result",
          "data": {
            "text/plain": [
              "Yes    936\n",
              "No     250\n",
              "Name: Have you seen any of the 6 films in the Star Wars franchise?, dtype: int64"
            ]
          },
          "metadata": {
            "tags": []
          },
          "execution_count": 4
        }
      ]
    },
    {
      "cell_type": "code",
      "metadata": {
        "id": "lFkmsx7JrICj",
        "colab_type": "code",
        "colab": {
          "base_uri": "https://localhost:8080/",
          "height": 67
        },
        "outputId": "05c1be90-ce5e-4cbd-ed28-b7ad9e5db023"
      },
      "source": [
        "star_wars[\"Have you seen any of the 6 films in the Star Wars franchise?\"]=star_wars[\"Have you seen any of the 6 films in the Star Wars franchise?\"].map(yes_no)\n",
        "star_wars[\"Have you seen any of the 6 films in the Star Wars franchise?\"].value_counts(dropna=False)\n",
        "# pandas.Series.map, Used for substituting each value in a Series with another value"
      ],
      "execution_count": 5,
      "outputs": [
        {
          "output_type": "execute_result",
          "data": {
            "text/plain": [
              "True     936\n",
              "False    250\n",
              "Name: Have you seen any of the 6 films in the Star Wars franchise?, dtype: int64"
            ]
          },
          "metadata": {
            "tags": []
          },
          "execution_count": 5
        }
      ]
    },
    {
      "cell_type": "code",
      "metadata": {
        "id": "jLVOorcprIF_",
        "colab_type": "code",
        "colab": {
          "base_uri": "https://localhost:8080/",
          "height": 83
        },
        "outputId": "b435f1a0-6e56-4821-bb73-48ace34e2a8f"
      },
      "source": [
        "star_wars[\"Do you consider yourself to be a fan of the Star Wars film franchise?\"]=star_wars[\"Do you consider yourself to be a fan of the Star Wars film franchise?\"].map(yes_no)\n",
        "star_wars[\"Do you consider yourself to be a fan of the Star Wars film franchise?\"].value_counts(dropna=False)"
      ],
      "execution_count": 6,
      "outputs": [
        {
          "output_type": "execute_result",
          "data": {
            "text/plain": [
              "True     552\n",
              "NaN      350\n",
              "False    284\n",
              "Name: Do you consider yourself to be a fan of the Star Wars film franchise?, dtype: int64"
            ]
          },
          "metadata": {
            "tags": []
          },
          "execution_count": 6
        }
      ]
    },
    {
      "cell_type": "code",
      "metadata": {
        "id": "i0jRoqLOqp6P",
        "colab_type": "code",
        "colab": {
          "base_uri": "https://localhost:8080/",
          "height": 33
        },
        "outputId": "91dce2bf-d88c-4c64-a3f0-b68fd8dc4759"
      },
      "source": [
        "star_wars.shape"
      ],
      "execution_count": 7,
      "outputs": [
        {
          "output_type": "execute_result",
          "data": {
            "text/plain": [
              "(1186, 38)"
            ]
          },
          "metadata": {
            "tags": []
          },
          "execution_count": 7
        }
      ]
    },
    {
      "cell_type": "code",
      "metadata": {
        "id": "O5_xKkqRigr9",
        "colab_type": "code",
        "colab": {}
      },
      "source": [
        "# Rename each of the columns above so the names are more intuitive\n",
        "star_wars = star_wars.rename(columns={\n",
        "        \"Which of the following Star Wars films have you seen? Please select all that apply.\": \"seen_1\",\n",
        "        \"Unnamed: 4\": \"seen_2\",\n",
        "        \"Unnamed: 5\": \"seen_3\",\n",
        "        \"Unnamed: 6\": \"seen_4\",\n",
        "        \"Unnamed: 7\": \"seen_5\",\n",
        "        \"Unnamed: 8\": \"seen_6\"\n",
        "})"
      ],
      "execution_count": 0,
      "outputs": []
    },
    {
      "cell_type": "code",
      "metadata": {
        "id": "aB-0Jvrujz03",
        "colab_type": "code",
        "colab": {}
      },
      "source": [
        "star_wars = star_wars.rename(columns={\n",
        "        \"Please rank the Star Wars films in order of preference with 1 being your favorite film in the franchise and 6 being your least favorite film.\": \"ranking_1\",\n",
        "        \"Unnamed: 10\": \"ranking_2\",\n",
        "        \"Unnamed: 11\": \"ranking_3\",\n",
        "        \"Unnamed: 12\": \"ranking_4\",\n",
        "        \"Unnamed: 13\": \"ranking_5\",\n",
        "        \"Unnamed: 14\": \"ranking_6\"\n",
        "        })"
      ],
      "execution_count": 0,
      "outputs": []
    },
    {
      "cell_type": "code",
      "metadata": {
        "id": "DwRSb7X5nOVP",
        "colab_type": "code",
        "colab": {}
      },
      "source": [
        "\n",
        "star_wars = star_wars.rename(columns={\n",
        "        \"Please state whether you view the following characters favorably, unfavorably, or are unfamiliar with him/her.\": \"Han Solo\",\n",
        "        \"Unnamed: 16\": \"Luke Skywalker\",\n",
        "        \"Unnamed: 17\": \"Princess Leia Organa\",\n",
        "        \"Unnamed: 18\": \"Anakin Skywalker\",\n",
        "        \"Unnamed: 19\": \"Obi Wan Kenobi\",\n",
        "        \"Unnamed: 20\": \"Emperor Palpatine\",\n",
        "        \"Unnamed: 21\": \"Darth Vader\",\n",
        "        \"Unnamed: 22\": \"Lando Calrissian\",\n",
        "        \"Unnamed: 23\": \"Boba Fett\",\n",
        "        \"Unnamed: 24\": \"C-3P0\",\n",
        "        \"Unnamed: 25\": \"R2 D2\",\n",
        "        \"Unnamed: 26\": \"Jar Jar Binks\",\n",
        "        \"Unnamed: 27\": \"Padme Amidala\",\n",
        "        \"Unnamed: 28\": \"Yoda\"\n",
        "        })"
      ],
      "execution_count": 0,
      "outputs": []
    },
    {
      "cell_type": "code",
      "metadata": {
        "id": "2oj6QmBqpcZO",
        "colab_type": "code",
        "colab": {}
      },
      "source": [
        "star_wars = star_wars.drop(['Are you familiar with the Expanded Universe?',\n",
        "                            'Do you consider yourself to be a fan of the Expanded Universe?æ',\n",
        "                            'Do you consider yourself to be a fan of the Star Trek franchise?',\n",
        "                            'Which character shot first?'],axis=1)"
      ],
      "execution_count": 0,
      "outputs": []
    },
    {
      "cell_type": "code",
      "metadata": {
        "id": "GiWULsBUjhCT",
        "colab_type": "code",
        "colab": {
          "base_uri": "https://localhost:8080/",
          "height": 507
        },
        "outputId": "e60b9626-a1ad-404c-a6b5-30a81375709c"
      },
      "source": [
        "star_wars.head(3)"
      ],
      "execution_count": 12,
      "outputs": [
        {
          "output_type": "execute_result",
          "data": {
            "text/html": [
              "<div>\n",
              "<style scoped>\n",
              "    .dataframe tbody tr th:only-of-type {\n",
              "        vertical-align: middle;\n",
              "    }\n",
              "\n",
              "    .dataframe tbody tr th {\n",
              "        vertical-align: top;\n",
              "    }\n",
              "\n",
              "    .dataframe thead th {\n",
              "        text-align: right;\n",
              "    }\n",
              "</style>\n",
              "<table border=\"1\" class=\"dataframe\">\n",
              "  <thead>\n",
              "    <tr style=\"text-align: right;\">\n",
              "      <th></th>\n",
              "      <th>RespondentID</th>\n",
              "      <th>Have you seen any of the 6 films in the Star Wars franchise?</th>\n",
              "      <th>Do you consider yourself to be a fan of the Star Wars film franchise?</th>\n",
              "      <th>seen_1</th>\n",
              "      <th>seen_2</th>\n",
              "      <th>seen_3</th>\n",
              "      <th>seen_4</th>\n",
              "      <th>seen_5</th>\n",
              "      <th>seen_6</th>\n",
              "      <th>ranking_1</th>\n",
              "      <th>ranking_2</th>\n",
              "      <th>ranking_3</th>\n",
              "      <th>ranking_4</th>\n",
              "      <th>ranking_5</th>\n",
              "      <th>ranking_6</th>\n",
              "      <th>Han Solo</th>\n",
              "      <th>Luke Skywalker</th>\n",
              "      <th>Princess Leia Organa</th>\n",
              "      <th>Anakin Skywalker</th>\n",
              "      <th>Obi Wan Kenobi</th>\n",
              "      <th>Emperor Palpatine</th>\n",
              "      <th>Darth Vader</th>\n",
              "      <th>Lando Calrissian</th>\n",
              "      <th>Boba Fett</th>\n",
              "      <th>C-3P0</th>\n",
              "      <th>R2 D2</th>\n",
              "      <th>Jar Jar Binks</th>\n",
              "      <th>Padme Amidala</th>\n",
              "      <th>Yoda</th>\n",
              "      <th>Gender</th>\n",
              "      <th>Age</th>\n",
              "      <th>Household Income</th>\n",
              "      <th>Education</th>\n",
              "      <th>Location (Census Region)</th>\n",
              "    </tr>\n",
              "  </thead>\n",
              "  <tbody>\n",
              "    <tr>\n",
              "      <th>1</th>\n",
              "      <td>3.292880e+09</td>\n",
              "      <td>True</td>\n",
              "      <td>True</td>\n",
              "      <td>Star Wars: Episode I  The Phantom Menace</td>\n",
              "      <td>Star Wars: Episode II  Attack of the Clones</td>\n",
              "      <td>Star Wars: Episode III  Revenge of the Sith</td>\n",
              "      <td>Star Wars: Episode IV  A New Hope</td>\n",
              "      <td>Star Wars: Episode V The Empire Strikes Back</td>\n",
              "      <td>Star Wars: Episode VI Return of the Jedi</td>\n",
              "      <td>3</td>\n",
              "      <td>2</td>\n",
              "      <td>1</td>\n",
              "      <td>4</td>\n",
              "      <td>5</td>\n",
              "      <td>6</td>\n",
              "      <td>Very favorably</td>\n",
              "      <td>Very favorably</td>\n",
              "      <td>Very favorably</td>\n",
              "      <td>Very favorably</td>\n",
              "      <td>Very favorably</td>\n",
              "      <td>Very favorably</td>\n",
              "      <td>Very favorably</td>\n",
              "      <td>Unfamiliar (N/A)</td>\n",
              "      <td>Unfamiliar (N/A)</td>\n",
              "      <td>Very favorably</td>\n",
              "      <td>Very favorably</td>\n",
              "      <td>Very favorably</td>\n",
              "      <td>Very favorably</td>\n",
              "      <td>Very favorably</td>\n",
              "      <td>Male</td>\n",
              "      <td>18-29</td>\n",
              "      <td>NaN</td>\n",
              "      <td>High school degree</td>\n",
              "      <td>South Atlantic</td>\n",
              "    </tr>\n",
              "    <tr>\n",
              "      <th>2</th>\n",
              "      <td>3.292880e+09</td>\n",
              "      <td>False</td>\n",
              "      <td>NaN</td>\n",
              "      <td>NaN</td>\n",
              "      <td>NaN</td>\n",
              "      <td>NaN</td>\n",
              "      <td>NaN</td>\n",
              "      <td>NaN</td>\n",
              "      <td>NaN</td>\n",
              "      <td>NaN</td>\n",
              "      <td>NaN</td>\n",
              "      <td>NaN</td>\n",
              "      <td>NaN</td>\n",
              "      <td>NaN</td>\n",
              "      <td>NaN</td>\n",
              "      <td>NaN</td>\n",
              "      <td>NaN</td>\n",
              "      <td>NaN</td>\n",
              "      <td>NaN</td>\n",
              "      <td>NaN</td>\n",
              "      <td>NaN</td>\n",
              "      <td>NaN</td>\n",
              "      <td>NaN</td>\n",
              "      <td>NaN</td>\n",
              "      <td>NaN</td>\n",
              "      <td>NaN</td>\n",
              "      <td>NaN</td>\n",
              "      <td>NaN</td>\n",
              "      <td>NaN</td>\n",
              "      <td>Male</td>\n",
              "      <td>18-29</td>\n",
              "      <td>$0 - $24,999</td>\n",
              "      <td>Bachelor degree</td>\n",
              "      <td>West South Central</td>\n",
              "    </tr>\n",
              "    <tr>\n",
              "      <th>3</th>\n",
              "      <td>3.292765e+09</td>\n",
              "      <td>True</td>\n",
              "      <td>False</td>\n",
              "      <td>Star Wars: Episode I  The Phantom Menace</td>\n",
              "      <td>Star Wars: Episode II  Attack of the Clones</td>\n",
              "      <td>Star Wars: Episode III  Revenge of the Sith</td>\n",
              "      <td>NaN</td>\n",
              "      <td>NaN</td>\n",
              "      <td>NaN</td>\n",
              "      <td>1</td>\n",
              "      <td>2</td>\n",
              "      <td>3</td>\n",
              "      <td>4</td>\n",
              "      <td>5</td>\n",
              "      <td>6</td>\n",
              "      <td>Somewhat favorably</td>\n",
              "      <td>Somewhat favorably</td>\n",
              "      <td>Somewhat favorably</td>\n",
              "      <td>Somewhat favorably</td>\n",
              "      <td>Somewhat favorably</td>\n",
              "      <td>Unfamiliar (N/A)</td>\n",
              "      <td>Unfamiliar (N/A)</td>\n",
              "      <td>Unfamiliar (N/A)</td>\n",
              "      <td>Unfamiliar (N/A)</td>\n",
              "      <td>Unfamiliar (N/A)</td>\n",
              "      <td>Unfamiliar (N/A)</td>\n",
              "      <td>Unfamiliar (N/A)</td>\n",
              "      <td>Unfamiliar (N/A)</td>\n",
              "      <td>Unfamiliar (N/A)</td>\n",
              "      <td>Male</td>\n",
              "      <td>18-29</td>\n",
              "      <td>$0 - $24,999</td>\n",
              "      <td>High school degree</td>\n",
              "      <td>West North Central</td>\n",
              "    </tr>\n",
              "  </tbody>\n",
              "</table>\n",
              "</div>"
            ],
            "text/plain": [
              "   RespondentID  ...  Location (Census Region)\n",
              "1  3.292880e+09  ...            South Atlantic\n",
              "2  3.292880e+09  ...        West South Central\n",
              "3  3.292765e+09  ...        West North Central\n",
              "\n",
              "[3 rows x 34 columns]"
            ]
          },
          "metadata": {
            "tags": []
          },
          "execution_count": 12
        }
      ]
    },
    {
      "cell_type": "markdown",
      "metadata": {
        "id": "JjlKwfC7ht-H",
        "colab_type": "text"
      },
      "source": [
        "The next six columns represent a single checkbox question. The respondent checked off a series of boxes in response to the question. For each of these columns, if the value in a cell is the name of the movie, that means the respondent saw the movie. If the value is NaN, the respondent either didn't answer or didn't see the movie. We'll assume that they didn't see the movie."
      ]
    },
    {
      "cell_type": "code",
      "metadata": {
        "id": "GcQs1FIFW-Jk",
        "colab_type": "code",
        "colab": {}
      },
      "source": [
        "# We'll need to convert each of these columns to a Boolean, then rename the column something more intuitive.\n",
        "\n",
        "import numpy as np\n",
        "\n",
        "movie_mapping = {\n",
        "    \"Star Wars: Episode I  The Phantom Menace\": 1,\n",
        "    np.nan: 0,\n",
        "    \"Star Wars: Episode II  Attack of the Clones\": 1,\n",
        "    \"Star Wars: Episode III  Revenge of the Sith\": 1,\n",
        "    \"Star Wars: Episode IV  A New Hope\": 1,\n",
        "    \"Star Wars: Episode V The Empire Strikes Back\": 1,\n",
        "    \"Star Wars: Episode VI Return of the Jedi\": 1\n",
        "}\n",
        "\n",
        "for col in star_wars.columns[3:9]:\n",
        "    star_wars[col] = star_wars[col].map(movie_mapping)"
      ],
      "execution_count": 0,
      "outputs": []
    },
    {
      "cell_type": "code",
      "metadata": {
        "id": "k-5NC23Uq88J",
        "colab_type": "code",
        "colab": {}
      },
      "source": [
        "import numpy as np\n",
        "\n",
        "charactors_mapping = {\n",
        "    \"Very favorably\": 2,\n",
        "    np.nan: 0,\n",
        "    \"Somewhat favorably\": 1,\n",
        "    \"Neither favorably nor unfavorably (neutral)\": 0,\n",
        "    \"Unfamiliar (N/A)\": 0\n",
        "    }\n",
        "\n",
        "for col in star_wars.columns[15:29]:\n",
        "    star_wars[col] = star_wars[col].map(charactors_mapping)"
      ],
      "execution_count": 0,
      "outputs": []
    },
    {
      "cell_type": "code",
      "metadata": {
        "id": "zs4EHzBxqzma",
        "colab_type": "code",
        "colab": {
          "base_uri": "https://localhost:8080/",
          "height": 534
        },
        "outputId": "537205c5-feb2-458e-d05e-dc2e5d40c0a4"
      },
      "source": [
        "star_wars.head()"
      ],
      "execution_count": 15,
      "outputs": [
        {
          "output_type": "execute_result",
          "data": {
            "text/html": [
              "<div>\n",
              "<style scoped>\n",
              "    .dataframe tbody tr th:only-of-type {\n",
              "        vertical-align: middle;\n",
              "    }\n",
              "\n",
              "    .dataframe tbody tr th {\n",
              "        vertical-align: top;\n",
              "    }\n",
              "\n",
              "    .dataframe thead th {\n",
              "        text-align: right;\n",
              "    }\n",
              "</style>\n",
              "<table border=\"1\" class=\"dataframe\">\n",
              "  <thead>\n",
              "    <tr style=\"text-align: right;\">\n",
              "      <th></th>\n",
              "      <th>RespondentID</th>\n",
              "      <th>Have you seen any of the 6 films in the Star Wars franchise?</th>\n",
              "      <th>Do you consider yourself to be a fan of the Star Wars film franchise?</th>\n",
              "      <th>seen_1</th>\n",
              "      <th>seen_2</th>\n",
              "      <th>seen_3</th>\n",
              "      <th>seen_4</th>\n",
              "      <th>seen_5</th>\n",
              "      <th>seen_6</th>\n",
              "      <th>ranking_1</th>\n",
              "      <th>ranking_2</th>\n",
              "      <th>ranking_3</th>\n",
              "      <th>ranking_4</th>\n",
              "      <th>ranking_5</th>\n",
              "      <th>ranking_6</th>\n",
              "      <th>Han Solo</th>\n",
              "      <th>Luke Skywalker</th>\n",
              "      <th>Princess Leia Organa</th>\n",
              "      <th>Anakin Skywalker</th>\n",
              "      <th>Obi Wan Kenobi</th>\n",
              "      <th>Emperor Palpatine</th>\n",
              "      <th>Darth Vader</th>\n",
              "      <th>Lando Calrissian</th>\n",
              "      <th>Boba Fett</th>\n",
              "      <th>C-3P0</th>\n",
              "      <th>R2 D2</th>\n",
              "      <th>Jar Jar Binks</th>\n",
              "      <th>Padme Amidala</th>\n",
              "      <th>Yoda</th>\n",
              "      <th>Gender</th>\n",
              "      <th>Age</th>\n",
              "      <th>Household Income</th>\n",
              "      <th>Education</th>\n",
              "      <th>Location (Census Region)</th>\n",
              "    </tr>\n",
              "  </thead>\n",
              "  <tbody>\n",
              "    <tr>\n",
              "      <th>1</th>\n",
              "      <td>3.292880e+09</td>\n",
              "      <td>True</td>\n",
              "      <td>True</td>\n",
              "      <td>1</td>\n",
              "      <td>1</td>\n",
              "      <td>1</td>\n",
              "      <td>1</td>\n",
              "      <td>1</td>\n",
              "      <td>1</td>\n",
              "      <td>3</td>\n",
              "      <td>2</td>\n",
              "      <td>1</td>\n",
              "      <td>4</td>\n",
              "      <td>5</td>\n",
              "      <td>6</td>\n",
              "      <td>2.0</td>\n",
              "      <td>2.0</td>\n",
              "      <td>2.0</td>\n",
              "      <td>2.0</td>\n",
              "      <td>2.0</td>\n",
              "      <td>2.0</td>\n",
              "      <td>2.0</td>\n",
              "      <td>0.0</td>\n",
              "      <td>0.0</td>\n",
              "      <td>2.0</td>\n",
              "      <td>2.0</td>\n",
              "      <td>2.0</td>\n",
              "      <td>2.0</td>\n",
              "      <td>2.0</td>\n",
              "      <td>Male</td>\n",
              "      <td>18-29</td>\n",
              "      <td>NaN</td>\n",
              "      <td>High school degree</td>\n",
              "      <td>South Atlantic</td>\n",
              "    </tr>\n",
              "    <tr>\n",
              "      <th>2</th>\n",
              "      <td>3.292880e+09</td>\n",
              "      <td>False</td>\n",
              "      <td>NaN</td>\n",
              "      <td>0</td>\n",
              "      <td>0</td>\n",
              "      <td>0</td>\n",
              "      <td>0</td>\n",
              "      <td>0</td>\n",
              "      <td>0</td>\n",
              "      <td>NaN</td>\n",
              "      <td>NaN</td>\n",
              "      <td>NaN</td>\n",
              "      <td>NaN</td>\n",
              "      <td>NaN</td>\n",
              "      <td>NaN</td>\n",
              "      <td>0.0</td>\n",
              "      <td>0.0</td>\n",
              "      <td>0.0</td>\n",
              "      <td>0.0</td>\n",
              "      <td>0.0</td>\n",
              "      <td>0.0</td>\n",
              "      <td>0.0</td>\n",
              "      <td>0.0</td>\n",
              "      <td>0.0</td>\n",
              "      <td>0.0</td>\n",
              "      <td>0.0</td>\n",
              "      <td>0.0</td>\n",
              "      <td>0.0</td>\n",
              "      <td>0.0</td>\n",
              "      <td>Male</td>\n",
              "      <td>18-29</td>\n",
              "      <td>$0 - $24,999</td>\n",
              "      <td>Bachelor degree</td>\n",
              "      <td>West South Central</td>\n",
              "    </tr>\n",
              "    <tr>\n",
              "      <th>3</th>\n",
              "      <td>3.292765e+09</td>\n",
              "      <td>True</td>\n",
              "      <td>False</td>\n",
              "      <td>1</td>\n",
              "      <td>1</td>\n",
              "      <td>1</td>\n",
              "      <td>0</td>\n",
              "      <td>0</td>\n",
              "      <td>0</td>\n",
              "      <td>1</td>\n",
              "      <td>2</td>\n",
              "      <td>3</td>\n",
              "      <td>4</td>\n",
              "      <td>5</td>\n",
              "      <td>6</td>\n",
              "      <td>1.0</td>\n",
              "      <td>1.0</td>\n",
              "      <td>1.0</td>\n",
              "      <td>1.0</td>\n",
              "      <td>1.0</td>\n",
              "      <td>0.0</td>\n",
              "      <td>0.0</td>\n",
              "      <td>0.0</td>\n",
              "      <td>0.0</td>\n",
              "      <td>0.0</td>\n",
              "      <td>0.0</td>\n",
              "      <td>0.0</td>\n",
              "      <td>0.0</td>\n",
              "      <td>0.0</td>\n",
              "      <td>Male</td>\n",
              "      <td>18-29</td>\n",
              "      <td>$0 - $24,999</td>\n",
              "      <td>High school degree</td>\n",
              "      <td>West North Central</td>\n",
              "    </tr>\n",
              "    <tr>\n",
              "      <th>4</th>\n",
              "      <td>3.292763e+09</td>\n",
              "      <td>True</td>\n",
              "      <td>True</td>\n",
              "      <td>1</td>\n",
              "      <td>1</td>\n",
              "      <td>1</td>\n",
              "      <td>1</td>\n",
              "      <td>1</td>\n",
              "      <td>1</td>\n",
              "      <td>5</td>\n",
              "      <td>6</td>\n",
              "      <td>1</td>\n",
              "      <td>2</td>\n",
              "      <td>4</td>\n",
              "      <td>3</td>\n",
              "      <td>2.0</td>\n",
              "      <td>2.0</td>\n",
              "      <td>2.0</td>\n",
              "      <td>2.0</td>\n",
              "      <td>2.0</td>\n",
              "      <td>1.0</td>\n",
              "      <td>2.0</td>\n",
              "      <td>1.0</td>\n",
              "      <td>NaN</td>\n",
              "      <td>2.0</td>\n",
              "      <td>2.0</td>\n",
              "      <td>2.0</td>\n",
              "      <td>2.0</td>\n",
              "      <td>2.0</td>\n",
              "      <td>Male</td>\n",
              "      <td>18-29</td>\n",
              "      <td>$100,000 - $149,999</td>\n",
              "      <td>Some college or Associate degree</td>\n",
              "      <td>West North Central</td>\n",
              "    </tr>\n",
              "    <tr>\n",
              "      <th>5</th>\n",
              "      <td>3.292731e+09</td>\n",
              "      <td>True</td>\n",
              "      <td>True</td>\n",
              "      <td>1</td>\n",
              "      <td>1</td>\n",
              "      <td>1</td>\n",
              "      <td>1</td>\n",
              "      <td>1</td>\n",
              "      <td>1</td>\n",
              "      <td>5</td>\n",
              "      <td>4</td>\n",
              "      <td>6</td>\n",
              "      <td>2</td>\n",
              "      <td>1</td>\n",
              "      <td>3</td>\n",
              "      <td>2.0</td>\n",
              "      <td>1.0</td>\n",
              "      <td>1.0</td>\n",
              "      <td>NaN</td>\n",
              "      <td>2.0</td>\n",
              "      <td>NaN</td>\n",
              "      <td>1.0</td>\n",
              "      <td>0.0</td>\n",
              "      <td>2.0</td>\n",
              "      <td>1.0</td>\n",
              "      <td>1.0</td>\n",
              "      <td>NaN</td>\n",
              "      <td>1.0</td>\n",
              "      <td>1.0</td>\n",
              "      <td>Male</td>\n",
              "      <td>18-29</td>\n",
              "      <td>$100,000 - $149,999</td>\n",
              "      <td>Some college or Associate degree</td>\n",
              "      <td>West North Central</td>\n",
              "    </tr>\n",
              "  </tbody>\n",
              "</table>\n",
              "</div>"
            ],
            "text/plain": [
              "   RespondentID  ...  Location (Census Region)\n",
              "1  3.292880e+09  ...            South Atlantic\n",
              "2  3.292880e+09  ...        West South Central\n",
              "3  3.292765e+09  ...        West North Central\n",
              "4  3.292763e+09  ...        West North Central\n",
              "5  3.292731e+09  ...        West North Central\n",
              "\n",
              "[5 rows x 34 columns]"
            ]
          },
          "metadata": {
            "tags": []
          },
          "execution_count": 15
        }
      ]
    },
    {
      "cell_type": "code",
      "metadata": {
        "id": "W5zyH-08stKz",
        "colab_type": "code",
        "colab": {
          "base_uri": "https://localhost:8080/",
          "height": 100
        },
        "outputId": "e8a30f1a-c4a4-4a6d-c238-01d72ff454ed"
      },
      "source": [
        "star_wars[\"Han Solo\"].value_counts(dropna = False)"
      ],
      "execution_count": 16,
      "outputs": [
        {
          "output_type": "execute_result",
          "data": {
            "text/plain": [
              "2.0    610\n",
              "0.0    416\n",
              "1.0    151\n",
              "NaN      9\n",
              "Name: Han Solo, dtype: int64"
            ]
          },
          "metadata": {
            "tags": []
          },
          "execution_count": 16
        }
      ]
    },
    {
      "cell_type": "code",
      "metadata": {
        "id": "OFETBdBrs7R-",
        "colab_type": "code",
        "colab": {}
      },
      "source": [
        "star_wars[star_wars.columns[9:15]] = star_wars[star_wars.columns[9:15]].astype(float)"
      ],
      "execution_count": 0,
      "outputs": []
    },
    {
      "cell_type": "code",
      "metadata": {
        "id": "hrcHzMDOWCz4",
        "colab_type": "code",
        "colab": {
          "base_uri": "https://localhost:8080/",
          "height": 117
        },
        "outputId": "8193688e-b138-4196-b6a7-8c3a5b22cfab"
      },
      "source": [
        "star_wars.Age.value_counts(dropna = False)"
      ],
      "execution_count": 18,
      "outputs": [
        {
          "output_type": "execute_result",
          "data": {
            "text/plain": [
              "45-60    291\n",
              "> 60     269\n",
              "30-44    268\n",
              "18-29    218\n",
              "NaN      140\n",
              "Name: Age, dtype: int64"
            ]
          },
          "metadata": {
            "tags": []
          },
          "execution_count": 18
        }
      ]
    },
    {
      "cell_type": "code",
      "metadata": {
        "id": "O0eUkhZ6WOsV",
        "colab_type": "code",
        "colab": {
          "base_uri": "https://localhost:8080/",
          "height": 83
        },
        "outputId": "2259ea9a-4d2a-4f9a-ad36-42a4d810154a"
      },
      "source": [
        "star_wars.Gender.value_counts(dropna = False)"
      ],
      "execution_count": 19,
      "outputs": [
        {
          "output_type": "execute_result",
          "data": {
            "text/plain": [
              "Female    549\n",
              "Male      497\n",
              "NaN       140\n",
              "Name: Gender, dtype: int64"
            ]
          },
          "metadata": {
            "tags": []
          },
          "execution_count": 19
        }
      ]
    },
    {
      "cell_type": "code",
      "metadata": {
        "id": "Y1H-H7u_Wa24",
        "colab_type": "code",
        "colab": {
          "base_uri": "https://localhost:8080/",
          "height": 133
        },
        "outputId": "e67ef303-2adb-4da8-94ba-5d8b5b5a1ace"
      },
      "source": [
        "star_wars.Education.value_counts(dropna = False)"
      ],
      "execution_count": 20,
      "outputs": [
        {
          "output_type": "execute_result",
          "data": {
            "text/plain": [
              "Some college or Associate degree    328\n",
              "Bachelor degree                     321\n",
              "Graduate degree                     275\n",
              "NaN                                 150\n",
              "High school degree                  105\n",
              "Less than high school degree          7\n",
              "Name: Education, dtype: int64"
            ]
          },
          "metadata": {
            "tags": []
          },
          "execution_count": 20
        }
      ]
    },
    {
      "cell_type": "code",
      "metadata": {
        "id": "PPkF45C6uFPP",
        "colab_type": "code",
        "colab": {
          "base_uri": "https://localhost:8080/",
          "height": 133
        },
        "outputId": "7fe55383-0f5e-4218-c3db-afd2cdf01f6f"
      },
      "source": [
        "star_wars[star_wars.columns[9:15]].mean()"
      ],
      "execution_count": 21,
      "outputs": [
        {
          "output_type": "execute_result",
          "data": {
            "text/plain": [
              "ranking_1    3.732934\n",
              "ranking_2    4.087321\n",
              "ranking_3    4.341317\n",
              "ranking_4    3.272727\n",
              "ranking_5    2.513158\n",
              "ranking_6    3.047847\n",
              "dtype: float64"
            ]
          },
          "metadata": {
            "tags": []
          },
          "execution_count": 21
        }
      ]
    },
    {
      "cell_type": "code",
      "metadata": {
        "id": "y2PrkHVrpRHE",
        "colab_type": "code",
        "colab": {}
      },
      "source": [
        "%matplotlib inline\n",
        "import matplotlib.pyplot as plt"
      ],
      "execution_count": 0,
      "outputs": []
    },
    {
      "cell_type": "code",
      "metadata": {
        "id": "7DbpkYdAuINx",
        "colab_type": "code",
        "colab": {
          "base_uri": "https://localhost:8080/",
          "height": 620
        },
        "outputId": "597f0e7f-4df2-4927-a0fd-848dc2081345"
      },
      "source": [
        "fig = plt.figure(num=2, figsize=(15, 8),dpi=80)\n",
        "plt.style.use('ggplot')\n",
        "\n",
        "ax1 = fig.add_subplot(2,3,1)\n",
        "star_wars['ranking_1'].value_counts().sort_index(0).plot.bar(width=0.8,color = 'tab:brown')\n",
        "ax1.set_xticklabels(range(1,7), rotation = 0)\n",
        "ax1.set_ylim([0,300])\n",
        "ax1.set_title('Episode 1 : The Phantom Menace')\n",
        "\n",
        "plt.ylabel('Numbers of people ranked', size=12)\n",
        "\n",
        "ax2 = fig.add_subplot(2,3,2)\n",
        "star_wars['ranking_2'].value_counts().sort_index(0).plot.bar(width=0.8,color = 'tab:olive')\n",
        "ax2.set_xticklabels(range(1,7),rotation = 0)\n",
        "ax2.set_ylim([0,300])\n",
        "ax2.set_title('Episode 2 : Attack of the Clones')\n",
        "\n",
        "\n",
        "ax3 = fig.add_subplot(2,3,3)\n",
        "star_wars['ranking_3'].value_counts().sort_index(0).plot.bar(width=0.8,color = 'tab:blue')\n",
        "ax3.set_xticklabels(range(1,7),rotation = 0)\n",
        "\n",
        "ax3.set_ylim([0,300])\n",
        "ax3.set_title('Episode 3 : Revenge of the Sith')\n",
        "\n",
        "ax4 = fig.add_subplot(2,3,4)\n",
        "star_wars['ranking_4'].value_counts().sort_index(0).plot.bar(width=0.8,color = 'tab:grey')\n",
        "ax4.set_xticklabels(range(1,7),rotation = 0)\n",
        "\n",
        "ax4.set_ylim([0,300])\n",
        "ax4.set_title('Episode 4 : A New Hope')\n",
        "\n",
        "ax5 = fig.add_subplot(2,3,5)\n",
        "star_wars['ranking_5'].value_counts().sort_index(0).plot.bar(width=0.8,color = 'tab:purple')\n",
        "ax5.set_xticklabels(range(1,7),rotation = 0)\n",
        "ax5.set_ylim([0,300])\n",
        "ax5.set_xlabel('Ranking from 1 to 6', size=16)\n",
        "ax5.set_title('Episode 5 : The Empire Strikes Back')\n",
        "\n",
        "ax6 = fig.add_subplot(2,3,6)\n",
        "star_wars['ranking_6'].value_counts().sort_index(0).plot.bar(width=0.8,color = 'tab:red')\n",
        "ax6.set_xticklabels(range(1,7),rotation = 0)\n",
        "ax6.set_ylim([0,300])\n",
        "ax6.set_title('Episode 6 : Return of the Jedi')\n",
        "\n",
        "\n",
        "fig.suptitle('The Star Wars Films Rank',size = 25)\n",
        "ax6.grid(True)\n",
        "ax5.grid(True)\n",
        "ax4.grid(True)\n",
        "ax3.grid(True)\n",
        "ax2.grid(True)\n",
        "ax1.grid(True)\n",
        "\n",
        "plt.savefig(\"star_wars.png\")\n",
        "plt.show()"
      ],
      "execution_count": 23,
      "outputs": [
        {
          "output_type": "display_data",
          "data": {
            "image/png": "[encoded data removed]",
            "text/plain": [
              "<Figure size 1200x640 with 6 Axes>"
            ]
          },
          "metadata": {
            "tags": []
          }
        }
      ]
    },
    {
      "cell_type": "code",
      "metadata": {
        "id": "XdgVj3u3AkNM",
        "colab_type": "code",
        "colab": {
          "base_uri": "https://localhost:8080/",
          "height": 459
        },
        "outputId": "c480d6ab-fac8-449d-80fc-cfe04c101910"
      },
      "source": [
        "fig = plt.figure(num=2, figsize=(10, 6),dpi=80)\n",
        "\n",
        "plt.barh(range(1,7),star_wars[star_wars.columns[9:15]].sum().sort_values(ascending=False),color=('tab:orange', 'tab:green', 'tab:grey','tab:red','tab:blue'))\n",
        "plt.yticks(range(1,7),('Episode 3', 'Episode 2', 'Episode 1', 'Episode 4', 'Episode 6','Episode 5'))\n",
        "plt.title('The Star Wars Film Rank',size = 24)\n",
        "plt.ylabel('Star Wars films',size=14)\n",
        "plt.xlabel('numbers of respondents',size=14)\n",
        "plt.grid(True)\n",
        "#plt.yticklables(['3','2','1','4','6','5'])"
      ],
      "execution_count": 24,
      "outputs": [
        {
          "output_type": "display_data",
          "data": {
            "image/png": "[encoded data removed]",
            "text/plain": [
              "<Figure size 800x480 with 1 Axes>"
            ]
          },
          "metadata": {
            "tags": []
          }
        }
      ]
    },
    {
      "cell_type": "code",
      "metadata": {
        "id": "dkm5dcD11CKc",
        "colab_type": "code",
        "colab": {}
      },
      "source": [
        ""
      ],
      "execution_count": 0,
      "outputs": []
    },
    {
      "cell_type": "markdown",
      "metadata": {
        "id": "G771e1847Se-",
        "colab_type": "text"
      },
      "source": [
        "### Analysis\n",
        "Review means and distribtuions for the columns on whether an episode was seen and its ranking.\n",
        "\n",
        "Episode IX was watched the least, maybe due to its publication year dating way back.\n",
        "\n",
        "However, we can conclude that each episode had been watched by similar percentage of respondents.\n",
        "\n",
        "Episode III received the most negative feedbacks.\n",
        "\n",
        "Episode V received the the most positive feedbacks.\n",
        "\n",
        "Episode IV received polarizing feedbacks, with large numbers of respondents scoring it at either 1 (best) or 6 (worst)"
      ]
    },
    {
      "cell_type": "code",
      "metadata": {
        "id": "JaPb92GINcmj",
        "colab_type": "code",
        "colab": {
          "base_uri": "https://localhost:8080/",
          "height": 534
        },
        "outputId": "36e5be5d-d1d7-4fbc-c474-5e8d9c59c2d4"
      },
      "source": [
        "star_wars['numbers_viewed'] = star_wars['seen_1'] + star_wars['seen_2'] + star_wars['seen_3']+ star_wars['seen_4']+ star_wars['seen_5'] + star_wars['seen_6']\n",
        "star_wars.head()"
      ],
      "execution_count": 25,
      "outputs": [
        {
          "output_type": "execute_result",
          "data": {
            "text/html": [
              "<div>\n",
              "<style scoped>\n",
              "    .dataframe tbody tr th:only-of-type {\n",
              "        vertical-align: middle;\n",
              "    }\n",
              "\n",
              "    .dataframe tbody tr th {\n",
              "        vertical-align: top;\n",
              "    }\n",
              "\n",
              "    .dataframe thead th {\n",
              "        text-align: right;\n",
              "    }\n",
              "</style>\n",
              "<table border=\"1\" class=\"dataframe\">\n",
              "  <thead>\n",
              "    <tr style=\"text-align: right;\">\n",
              "      <th></th>\n",
              "      <th>RespondentID</th>\n",
              "      <th>Have you seen any of the 6 films in the Star Wars franchise?</th>\n",
              "      <th>Do you consider yourself to be a fan of the Star Wars film franchise?</th>\n",
              "      <th>seen_1</th>\n",
              "      <th>seen_2</th>\n",
              "      <th>seen_3</th>\n",
              "      <th>seen_4</th>\n",
              "      <th>seen_5</th>\n",
              "      <th>seen_6</th>\n",
              "      <th>ranking_1</th>\n",
              "      <th>ranking_2</th>\n",
              "      <th>ranking_3</th>\n",
              "      <th>ranking_4</th>\n",
              "      <th>ranking_5</th>\n",
              "      <th>ranking_6</th>\n",
              "      <th>Han Solo</th>\n",
              "      <th>Luke Skywalker</th>\n",
              "      <th>Princess Leia Organa</th>\n",
              "      <th>Anakin Skywalker</th>\n",
              "      <th>Obi Wan Kenobi</th>\n",
              "      <th>Emperor Palpatine</th>\n",
              "      <th>Darth Vader</th>\n",
              "      <th>Lando Calrissian</th>\n",
              "      <th>Boba Fett</th>\n",
              "      <th>C-3P0</th>\n",
              "      <th>R2 D2</th>\n",
              "      <th>Jar Jar Binks</th>\n",
              "      <th>Padme Amidala</th>\n",
              "      <th>Yoda</th>\n",
              "      <th>Gender</th>\n",
              "      <th>Age</th>\n",
              "      <th>Household Income</th>\n",
              "      <th>Education</th>\n",
              "      <th>Location (Census Region)</th>\n",
              "      <th>numbers_viewed</th>\n",
              "    </tr>\n",
              "  </thead>\n",
              "  <tbody>\n",
              "    <tr>\n",
              "      <th>1</th>\n",
              "      <td>3.292880e+09</td>\n",
              "      <td>True</td>\n",
              "      <td>True</td>\n",
              "      <td>1</td>\n",
              "      <td>1</td>\n",
              "      <td>1</td>\n",
              "      <td>1</td>\n",
              "      <td>1</td>\n",
              "      <td>1</td>\n",
              "      <td>3.0</td>\n",
              "      <td>2.0</td>\n",
              "      <td>1.0</td>\n",
              "      <td>4.0</td>\n",
              "      <td>5.0</td>\n",
              "      <td>6.0</td>\n",
              "      <td>2.0</td>\n",
              "      <td>2.0</td>\n",
              "      <td>2.0</td>\n",
              "      <td>2.0</td>\n",
              "      <td>2.0</td>\n",
              "      <td>2.0</td>\n",
              "      <td>2.0</td>\n",
              "      <td>0.0</td>\n",
              "      <td>0.0</td>\n",
              "      <td>2.0</td>\n",
              "      <td>2.0</td>\n",
              "      <td>2.0</td>\n",
              "      <td>2.0</td>\n",
              "      <td>2.0</td>\n",
              "      <td>Male</td>\n",
              "      <td>18-29</td>\n",
              "      <td>NaN</td>\n",
              "      <td>High school degree</td>\n",
              "      <td>South Atlantic</td>\n",
              "      <td>6</td>\n",
              "    </tr>\n",
              "    <tr>\n",
              "      <th>2</th>\n",
              "      <td>3.292880e+09</td>\n",
              "      <td>False</td>\n",
              "      <td>NaN</td>\n",
              "      <td>0</td>\n",
              "      <td>0</td>\n",
              "      <td>0</td>\n",
              "      <td>0</td>\n",
              "      <td>0</td>\n",
              "      <td>0</td>\n",
              "      <td>NaN</td>\n",
              "      <td>NaN</td>\n",
              "      <td>NaN</td>\n",
              "      <td>NaN</td>\n",
              "      <td>NaN</td>\n",
              "      <td>NaN</td>\n",
              "      <td>0.0</td>\n",
              "      <td>0.0</td>\n",
              "      <td>0.0</td>\n",
              "      <td>0.0</td>\n",
              "      <td>0.0</td>\n",
              "      <td>0.0</td>\n",
              "      <td>0.0</td>\n",
              "      <td>0.0</td>\n",
              "      <td>0.0</td>\n",
              "      <td>0.0</td>\n",
              "      <td>0.0</td>\n",
              "      <td>0.0</td>\n",
              "      <td>0.0</td>\n",
              "      <td>0.0</td>\n",
              "      <td>Male</td>\n",
              "      <td>18-29</td>\n",
              "      <td>$0 - $24,999</td>\n",
              "      <td>Bachelor degree</td>\n",
              "      <td>West South Central</td>\n",
              "      <td>0</td>\n",
              "    </tr>\n",
              "    <tr>\n",
              "      <th>3</th>\n",
              "      <td>3.292765e+09</td>\n",
              "      <td>True</td>\n",
              "      <td>False</td>\n",
              "      <td>1</td>\n",
              "      <td>1</td>\n",
              "      <td>1</td>\n",
              "      <td>0</td>\n",
              "      <td>0</td>\n",
              "      <td>0</td>\n",
              "      <td>1.0</td>\n",
              "      <td>2.0</td>\n",
              "      <td>3.0</td>\n",
              "      <td>4.0</td>\n",
              "      <td>5.0</td>\n",
              "      <td>6.0</td>\n",
              "      <td>1.0</td>\n",
              "      <td>1.0</td>\n",
              "      <td>1.0</td>\n",
              "      <td>1.0</td>\n",
              "      <td>1.0</td>\n",
              "      <td>0.0</td>\n",
              "      <td>0.0</td>\n",
              "      <td>0.0</td>\n",
              "      <td>0.0</td>\n",
              "      <td>0.0</td>\n",
              "      <td>0.0</td>\n",
              "      <td>0.0</td>\n",
              "      <td>0.0</td>\n",
              "      <td>0.0</td>\n",
              "      <td>Male</td>\n",
              "      <td>18-29</td>\n",
              "      <td>$0 - $24,999</td>\n",
              "      <td>High school degree</td>\n",
              "      <td>West North Central</td>\n",
              "      <td>3</td>\n",
              "    </tr>\n",
              "    <tr>\n",
              "      <th>4</th>\n",
              "      <td>3.292763e+09</td>\n",
              "      <td>True</td>\n",
              "      <td>True</td>\n",
              "      <td>1</td>\n",
              "      <td>1</td>\n",
              "      <td>1</td>\n",
              "      <td>1</td>\n",
              "      <td>1</td>\n",
              "      <td>1</td>\n",
              "      <td>5.0</td>\n",
              "      <td>6.0</td>\n",
              "      <td>1.0</td>\n",
              "      <td>2.0</td>\n",
              "      <td>4.0</td>\n",
              "      <td>3.0</td>\n",
              "      <td>2.0</td>\n",
              "      <td>2.0</td>\n",
              "      <td>2.0</td>\n",
              "      <td>2.0</td>\n",
              "      <td>2.0</td>\n",
              "      <td>1.0</td>\n",
              "      <td>2.0</td>\n",
              "      <td>1.0</td>\n",
              "      <td>NaN</td>\n",
              "      <td>2.0</td>\n",
              "      <td>2.0</td>\n",
              "      <td>2.0</td>\n",
              "      <td>2.0</td>\n",
              "      <td>2.0</td>\n",
              "      <td>Male</td>\n",
              "      <td>18-29</td>\n",
              "      <td>$100,000 - $149,999</td>\n",
              "      <td>Some college or Associate degree</td>\n",
              "      <td>West North Central</td>\n",
              "      <td>6</td>\n",
              "    </tr>\n",
              "    <tr>\n",
              "      <th>5</th>\n",
              "      <td>3.292731e+09</td>\n",
              "      <td>True</td>\n",
              "      <td>True</td>\n",
              "      <td>1</td>\n",
              "      <td>1</td>\n",
              "      <td>1</td>\n",
              "      <td>1</td>\n",
              "      <td>1</td>\n",
              "      <td>1</td>\n",
              "      <td>5.0</td>\n",
              "      <td>4.0</td>\n",
              "      <td>6.0</td>\n",
              "      <td>2.0</td>\n",
              "      <td>1.0</td>\n",
              "      <td>3.0</td>\n",
              "      <td>2.0</td>\n",
              "      <td>1.0</td>\n",
              "      <td>1.0</td>\n",
              "      <td>NaN</td>\n",
              "      <td>2.0</td>\n",
              "      <td>NaN</td>\n",
              "      <td>1.0</td>\n",
              "      <td>0.0</td>\n",
              "      <td>2.0</td>\n",
              "      <td>1.0</td>\n",
              "      <td>1.0</td>\n",
              "      <td>NaN</td>\n",
              "      <td>1.0</td>\n",
              "      <td>1.0</td>\n",
              "      <td>Male</td>\n",
              "      <td>18-29</td>\n",
              "      <td>$100,000 - $149,999</td>\n",
              "      <td>Some college or Associate degree</td>\n",
              "      <td>West North Central</td>\n",
              "      <td>6</td>\n",
              "    </tr>\n",
              "  </tbody>\n",
              "</table>\n",
              "</div>"
            ],
            "text/plain": [
              "   RespondentID  ...  numbers_viewed\n",
              "1  3.292880e+09  ...               6\n",
              "2  3.292880e+09  ...               0\n",
              "3  3.292765e+09  ...               3\n",
              "4  3.292763e+09  ...               6\n",
              "5  3.292731e+09  ...               6\n",
              "\n",
              "[5 rows x 35 columns]"
            ]
          },
          "metadata": {
            "tags": []
          },
          "execution_count": 25
        }
      ]
    },
    {
      "cell_type": "code",
      "metadata": {
        "id": "sYhiLeyv2N01",
        "colab_type": "code",
        "colab": {}
      },
      "source": [
        "#further analysis by segments\n",
        "#does the respondent consider himself as a fan?\n",
        "movies = ['seen_{0}'.format(i) for i in range(1,7)]\n",
        "\n",
        "fans = star_wars[star_wars['Do you consider yourself to be a fan of the Star Wars film franchise?'] == True]\n",
        "non_fans = star_wars[star_wars['Do you consider yourself to be a fan of the Star Wars film franchise?'] == False]"
      ],
      "execution_count": 0,
      "outputs": []
    },
    {
      "cell_type": "code",
      "metadata": {
        "id": "UDwtqoglL9s7",
        "colab_type": "code",
        "colab": {}
      },
      "source": [
        "males = star_wars[star_wars[\"Gender\"] == \"Male\"]\n",
        "females = star_wars[star_wars[\"Gender\"] == \"Female\"]"
      ],
      "execution_count": 0,
      "outputs": []
    },
    {
      "cell_type": "code",
      "metadata": {
        "id": "iwMl7_x3MtfM",
        "colab_type": "code",
        "colab": {
          "base_uri": "https://localhost:8080/",
          "height": 33
        },
        "outputId": "d4256cd7-f7d9-4f73-baae-876687483234"
      },
      "source": [
        "fans_male = fans[fans['Gender'] == 'Male']\n",
        "fans_male.shape"
      ],
      "execution_count": 28,
      "outputs": [
        {
          "output_type": "execute_result",
          "data": {
            "text/plain": [
              "(303, 35)"
            ]
          },
          "metadata": {
            "tags": []
          },
          "execution_count": 28
        }
      ]
    },
    {
      "cell_type": "code",
      "metadata": {
        "id": "rDE0UII_NHuR",
        "colab_type": "code",
        "colab": {
          "base_uri": "https://localhost:8080/",
          "height": 33
        },
        "outputId": "870c9b21-0db3-4a78-f119-2e8f58c740bc"
      },
      "source": [
        "fans_female = fans[fans['Gender'] == 'Female']\n",
        "fans_female.shape"
      ],
      "execution_count": 29,
      "outputs": [
        {
          "output_type": "execute_result",
          "data": {
            "text/plain": [
              "(238, 35)"
            ]
          },
          "metadata": {
            "tags": []
          },
          "execution_count": 29
        }
      ]
    },
    {
      "cell_type": "code",
      "metadata": {
        "id": "lfon2Ay3Okv_",
        "colab_type": "code",
        "colab": {
          "base_uri": "https://localhost:8080/",
          "height": 50
        },
        "outputId": "90279e0c-9079-4c78-929e-5eea48475ab0"
      },
      "source": [
        "viewed_all = star_wars[star_wars['numbers_viewed'] == 6]\n",
        "viewed_none = star_wars[star_wars['numbers_viewed'] == 0]\n",
        "print(viewed_all.shape)\n",
        "viewed_none.shape"
      ],
      "execution_count": 30,
      "outputs": [
        {
          "output_type": "stream",
          "text": [
            "(471, 35)\n"
          ],
          "name": "stdout"
        },
        {
          "output_type": "execute_result",
          "data": {
            "text/plain": [
              "(351, 35)"
            ]
          },
          "metadata": {
            "tags": []
          },
          "execution_count": 30
        }
      ]
    },
    {
      "cell_type": "code",
      "metadata": {
        "id": "t4J-kQrFCn_0",
        "colab_type": "code",
        "colab": {
          "base_uri": "https://localhost:8080/",
          "height": 325
        },
        "outputId": "c2fa808f-e46c-43ba-a1a4-80c6f11de4f3"
      },
      "source": [
        "\n",
        "\n",
        "#calculate the percentage of fans who have watched respective episodes and the average across all episodes\n",
        "fan_perc_viewed = fans[movies].sum() / len(fans[movies])\n",
        "fan_perc_viewed.plot.bar()\n",
        "plt.axhline(fan_perc_viewed.mean())\n",
        "plt.title('Fans % Watched')"
      ],
      "execution_count": 31,
      "outputs": [
        {
          "output_type": "execute_result",
          "data": {
            "text/plain": [
              "Text(0.5, 1.0, 'Fans % Watched')"
            ]
          },
          "metadata": {
            "tags": []
          },
          "execution_count": 31
        },
        {
          "output_type": "display_data",
          "data": {
            "image/png": "[encoded data removed]",
            "text/plain": [
              "<Figure size 432x288 with 1 Axes>"
            ]
          },
          "metadata": {
            "tags": []
          }
        }
      ]
    },
    {
      "cell_type": "code",
      "metadata": {
        "id": "cvjv9pKoKCHf",
        "colab_type": "code",
        "colab": {
          "base_uri": "https://localhost:8080/",
          "height": 325
        },
        "outputId": "ed6f8253-8d09-4543-ccc2-a9bcf255ccb7"
      },
      "source": [
        "\n",
        "Non_fan_perc_viewed = non_fans[movies].sum() / len(non_fans[movies])\n",
        "Non_fan_perc_viewed.plot.bar()\n",
        "plt.axhline(Non_fan_perc_viewed.mean())\n",
        "plt.title('Non_Fans % Watched')\n"
      ],
      "execution_count": 32,
      "outputs": [
        {
          "output_type": "execute_result",
          "data": {
            "text/plain": [
              "Text(0.5, 1.0, 'Non_Fans % Watched')"
            ]
          },
          "metadata": {
            "tags": []
          },
          "execution_count": 32
        },
        {
          "output_type": "display_data",
          "data": {
            "image/png": "[encoded data removed]",
            "text/plain": [
              "<Figure size 432x288 with 1 Axes>"
            ]
          },
          "metadata": {
            "tags": []
          }
        }
      ]
    },
    {
      "cell_type": "code",
      "metadata": {
        "id": "jxOTGUDOQB4V",
        "colab_type": "code",
        "colab": {
          "base_uri": "https://localhost:8080/",
          "height": 100
        },
        "outputId": "ca25c5d3-d9d9-4025-e5dc-35fff2a916ac"
      },
      "source": [
        "viewed_all['Age'].value_counts()"
      ],
      "execution_count": 33,
      "outputs": [
        {
          "output_type": "execute_result",
          "data": {
            "text/plain": [
              "30-44    141\n",
              "18-29    129\n",
              "45-60    121\n",
              "> 60      72\n",
              "Name: Age, dtype: int64"
            ]
          },
          "metadata": {
            "tags": []
          },
          "execution_count": 33
        }
      ]
    },
    {
      "cell_type": "code",
      "metadata": {
        "id": "aldfwmdnQM9f",
        "colab_type": "code",
        "colab": {
          "base_uri": "https://localhost:8080/",
          "height": 100
        },
        "outputId": "640c6b60-fd69-4b8a-ae66-c72b2d502876"
      },
      "source": [
        "viewed_none['Age'].value_counts()"
      ],
      "execution_count": 34,
      "outputs": [
        {
          "output_type": "execute_result",
          "data": {
            "text/plain": [
              "> 60     77\n",
              "30-44    61\n",
              "45-60    51\n",
              "18-29    38\n",
              "Name: Age, dtype: int64"
            ]
          },
          "metadata": {
            "tags": []
          },
          "execution_count": 34
        }
      ]
    },
    {
      "cell_type": "code",
      "metadata": {
        "id": "eQ_yU_HaQrPM",
        "colab_type": "code",
        "colab": {
          "base_uri": "https://localhost:8080/",
          "height": 133
        },
        "outputId": "2b43e188-725e-41fa-d08a-ca56d7c45e07"
      },
      "source": [
        "fans['numbers_viewed'].value_counts()"
      ],
      "execution_count": 35,
      "outputs": [
        {
          "output_type": "execute_result",
          "data": {
            "text/plain": [
              "6    411\n",
              "4     48\n",
              "3     38\n",
              "5     32\n",
              "2     16\n",
              "1      7\n",
              "Name: numbers_viewed, dtype: int64"
            ]
          },
          "metadata": {
            "tags": []
          },
          "execution_count": 35
        }
      ]
    },
    {
      "cell_type": "code",
      "metadata": {
        "id": "bHqSdAXhyBLj",
        "colab_type": "code",
        "colab": {
          "base_uri": "https://localhost:8080/",
          "height": 150
        },
        "outputId": "3bffc629-34f9-4fd3-e7ed-da009a701015"
      },
      "source": [
        "non_fans['numbers_viewed'].value_counts()"
      ],
      "execution_count": 36,
      "outputs": [
        {
          "output_type": "execute_result",
          "data": {
            "text/plain": [
              "2    69\n",
              "3    61\n",
              "6    60\n",
              "1    49\n",
              "4    24\n",
              "5    20\n",
              "0     1\n",
              "Name: numbers_viewed, dtype: int64"
            ]
          },
          "metadata": {
            "tags": []
          },
          "execution_count": 36
        }
      ]
    },
    {
      "cell_type": "markdown",
      "metadata": {
        "id": "zmrhk0HpysKM",
        "colab_type": "text"
      },
      "source": [
        "Fans watched almost all the six episodes\n",
        "\n",
        "Non-fans watched mostly Episode I, IV, and V"
      ]
    },
    {
      "cell_type": "code",
      "metadata": {
        "id": "ZzgJ3rck4tZy",
        "colab_type": "code",
        "colab": {}
      },
      "source": [
        "\n",
        "ranking_score_mapping = {\n",
        "    1: 15,\n",
        "    np.nan: 0,\n",
        "    2: 10,\n",
        "    3: 4,\n",
        "    4: 2,\n",
        "    5: 1,\n",
        "    6: 0\n",
        "}\n",
        "\n",
        "for col in star_wars.columns[9:15]:\n",
        "    star_wars[col] = star_wars[col].map(ranking_score_mapping)\n",
        "  "
      ],
      "execution_count": 0,
      "outputs": []
    },
    {
      "cell_type": "code",
      "metadata": {
        "id": "9cpSYFcl5dHy",
        "colab_type": "code",
        "colab": {
          "base_uri": "https://localhost:8080/",
          "height": 534
        },
        "outputId": "3663c113-a317-4e0d-8b15-01f819182e4e"
      },
      "source": [
        "star_wars.head()"
      ],
      "execution_count": 38,
      "outputs": [
        {
          "output_type": "execute_result",
          "data": {
            "text/html": [
              "<div>\n",
              "<style scoped>\n",
              "    .dataframe tbody tr th:only-of-type {\n",
              "        vertical-align: middle;\n",
              "    }\n",
              "\n",
              "    .dataframe tbody tr th {\n",
              "        vertical-align: top;\n",
              "    }\n",
              "\n",
              "    .dataframe thead th {\n",
              "        text-align: right;\n",
              "    }\n",
              "</style>\n",
              "<table border=\"1\" class=\"dataframe\">\n",
              "  <thead>\n",
              "    <tr style=\"text-align: right;\">\n",
              "      <th></th>\n",
              "      <th>RespondentID</th>\n",
              "      <th>Have you seen any of the 6 films in the Star Wars franchise?</th>\n",
              "      <th>Do you consider yourself to be a fan of the Star Wars film franchise?</th>\n",
              "      <th>seen_1</th>\n",
              "      <th>seen_2</th>\n",
              "      <th>seen_3</th>\n",
              "      <th>seen_4</th>\n",
              "      <th>seen_5</th>\n",
              "      <th>seen_6</th>\n",
              "      <th>ranking_1</th>\n",
              "      <th>ranking_2</th>\n",
              "      <th>ranking_3</th>\n",
              "      <th>ranking_4</th>\n",
              "      <th>ranking_5</th>\n",
              "      <th>ranking_6</th>\n",
              "      <th>Han Solo</th>\n",
              "      <th>Luke Skywalker</th>\n",
              "      <th>Princess Leia Organa</th>\n",
              "      <th>Anakin Skywalker</th>\n",
              "      <th>Obi Wan Kenobi</th>\n",
              "      <th>Emperor Palpatine</th>\n",
              "      <th>Darth Vader</th>\n",
              "      <th>Lando Calrissian</th>\n",
              "      <th>Boba Fett</th>\n",
              "      <th>C-3P0</th>\n",
              "      <th>R2 D2</th>\n",
              "      <th>Jar Jar Binks</th>\n",
              "      <th>Padme Amidala</th>\n",
              "      <th>Yoda</th>\n",
              "      <th>Gender</th>\n",
              "      <th>Age</th>\n",
              "      <th>Household Income</th>\n",
              "      <th>Education</th>\n",
              "      <th>Location (Census Region)</th>\n",
              "      <th>numbers_viewed</th>\n",
              "    </tr>\n",
              "  </thead>\n",
              "  <tbody>\n",
              "    <tr>\n",
              "      <th>1</th>\n",
              "      <td>3.292880e+09</td>\n",
              "      <td>True</td>\n",
              "      <td>True</td>\n",
              "      <td>1</td>\n",
              "      <td>1</td>\n",
              "      <td>1</td>\n",
              "      <td>1</td>\n",
              "      <td>1</td>\n",
              "      <td>1</td>\n",
              "      <td>4</td>\n",
              "      <td>10</td>\n",
              "      <td>15</td>\n",
              "      <td>2</td>\n",
              "      <td>1</td>\n",
              "      <td>0</td>\n",
              "      <td>2.0</td>\n",
              "      <td>2.0</td>\n",
              "      <td>2.0</td>\n",
              "      <td>2.0</td>\n",
              "      <td>2.0</td>\n",
              "      <td>2.0</td>\n",
              "      <td>2.0</td>\n",
              "      <td>0.0</td>\n",
              "      <td>0.0</td>\n",
              "      <td>2.0</td>\n",
              "      <td>2.0</td>\n",
              "      <td>2.0</td>\n",
              "      <td>2.0</td>\n",
              "      <td>2.0</td>\n",
              "      <td>Male</td>\n",
              "      <td>18-29</td>\n",
              "      <td>NaN</td>\n",
              "      <td>High school degree</td>\n",
              "      <td>South Atlantic</td>\n",
              "      <td>6</td>\n",
              "    </tr>\n",
              "    <tr>\n",
              "      <th>2</th>\n",
              "      <td>3.292880e+09</td>\n",
              "      <td>False</td>\n",
              "      <td>NaN</td>\n",
              "      <td>0</td>\n",
              "      <td>0</td>\n",
              "      <td>0</td>\n",
              "      <td>0</td>\n",
              "      <td>0</td>\n",
              "      <td>0</td>\n",
              "      <td>0</td>\n",
              "      <td>0</td>\n",
              "      <td>0</td>\n",
              "      <td>0</td>\n",
              "      <td>0</td>\n",
              "      <td>0</td>\n",
              "      <td>0.0</td>\n",
              "      <td>0.0</td>\n",
              "      <td>0.0</td>\n",
              "      <td>0.0</td>\n",
              "      <td>0.0</td>\n",
              "      <td>0.0</td>\n",
              "      <td>0.0</td>\n",
              "      <td>0.0</td>\n",
              "      <td>0.0</td>\n",
              "      <td>0.0</td>\n",
              "      <td>0.0</td>\n",
              "      <td>0.0</td>\n",
              "      <td>0.0</td>\n",
              "      <td>0.0</td>\n",
              "      <td>Male</td>\n",
              "      <td>18-29</td>\n",
              "      <td>$0 - $24,999</td>\n",
              "      <td>Bachelor degree</td>\n",
              "      <td>West South Central</td>\n",
              "      <td>0</td>\n",
              "    </tr>\n",
              "    <tr>\n",
              "      <th>3</th>\n",
              "      <td>3.292765e+09</td>\n",
              "      <td>True</td>\n",
              "      <td>False</td>\n",
              "      <td>1</td>\n",
              "      <td>1</td>\n",
              "      <td>1</td>\n",
              "      <td>0</td>\n",
              "      <td>0</td>\n",
              "      <td>0</td>\n",
              "      <td>15</td>\n",
              "      <td>10</td>\n",
              "      <td>4</td>\n",
              "      <td>2</td>\n",
              "      <td>1</td>\n",
              "      <td>0</td>\n",
              "      <td>1.0</td>\n",
              "      <td>1.0</td>\n",
              "      <td>1.0</td>\n",
              "      <td>1.0</td>\n",
              "      <td>1.0</td>\n",
              "      <td>0.0</td>\n",
              "      <td>0.0</td>\n",
              "      <td>0.0</td>\n",
              "      <td>0.0</td>\n",
              "      <td>0.0</td>\n",
              "      <td>0.0</td>\n",
              "      <td>0.0</td>\n",
              "      <td>0.0</td>\n",
              "      <td>0.0</td>\n",
              "      <td>Male</td>\n",
              "      <td>18-29</td>\n",
              "      <td>$0 - $24,999</td>\n",
              "      <td>High school degree</td>\n",
              "      <td>West North Central</td>\n",
              "      <td>3</td>\n",
              "    </tr>\n",
              "    <tr>\n",
              "      <th>4</th>\n",
              "      <td>3.292763e+09</td>\n",
              "      <td>True</td>\n",
              "      <td>True</td>\n",
              "      <td>1</td>\n",
              "      <td>1</td>\n",
              "      <td>1</td>\n",
              "      <td>1</td>\n",
              "      <td>1</td>\n",
              "      <td>1</td>\n",
              "      <td>1</td>\n",
              "      <td>0</td>\n",
              "      <td>15</td>\n",
              "      <td>10</td>\n",
              "      <td>2</td>\n",
              "      <td>4</td>\n",
              "      <td>2.0</td>\n",
              "      <td>2.0</td>\n",
              "      <td>2.0</td>\n",
              "      <td>2.0</td>\n",
              "      <td>2.0</td>\n",
              "      <td>1.0</td>\n",
              "      <td>2.0</td>\n",
              "      <td>1.0</td>\n",
              "      <td>NaN</td>\n",
              "      <td>2.0</td>\n",
              "      <td>2.0</td>\n",
              "      <td>2.0</td>\n",
              "      <td>2.0</td>\n",
              "      <td>2.0</td>\n",
              "      <td>Male</td>\n",
              "      <td>18-29</td>\n",
              "      <td>$100,000 - $149,999</td>\n",
              "      <td>Some college or Associate degree</td>\n",
              "      <td>West North Central</td>\n",
              "      <td>6</td>\n",
              "    </tr>\n",
              "    <tr>\n",
              "      <th>5</th>\n",
              "      <td>3.292731e+09</td>\n",
              "      <td>True</td>\n",
              "      <td>True</td>\n",
              "      <td>1</td>\n",
              "      <td>1</td>\n",
              "      <td>1</td>\n",
              "      <td>1</td>\n",
              "      <td>1</td>\n",
              "      <td>1</td>\n",
              "      <td>1</td>\n",
              "      <td>2</td>\n",
              "      <td>0</td>\n",
              "      <td>10</td>\n",
              "      <td>15</td>\n",
              "      <td>4</td>\n",
              "      <td>2.0</td>\n",
              "      <td>1.0</td>\n",
              "      <td>1.0</td>\n",
              "      <td>NaN</td>\n",
              "      <td>2.0</td>\n",
              "      <td>NaN</td>\n",
              "      <td>1.0</td>\n",
              "      <td>0.0</td>\n",
              "      <td>2.0</td>\n",
              "      <td>1.0</td>\n",
              "      <td>1.0</td>\n",
              "      <td>NaN</td>\n",
              "      <td>1.0</td>\n",
              "      <td>1.0</td>\n",
              "      <td>Male</td>\n",
              "      <td>18-29</td>\n",
              "      <td>$100,000 - $149,999</td>\n",
              "      <td>Some college or Associate degree</td>\n",
              "      <td>West North Central</td>\n",
              "      <td>6</td>\n",
              "    </tr>\n",
              "  </tbody>\n",
              "</table>\n",
              "</div>"
            ],
            "text/plain": [
              "   RespondentID  ...  numbers_viewed\n",
              "1  3.292880e+09  ...               6\n",
              "2  3.292880e+09  ...               0\n",
              "3  3.292765e+09  ...               3\n",
              "4  3.292763e+09  ...               6\n",
              "5  3.292731e+09  ...               6\n",
              "\n",
              "[5 rows x 35 columns]"
            ]
          },
          "metadata": {
            "tags": []
          },
          "execution_count": 38
        }
      ]
    },
    {
      "cell_type": "code",
      "metadata": {
        "id": "ixHVqqmj6hsi",
        "colab_type": "code",
        "colab": {
          "base_uri": "https://localhost:8080/",
          "height": 133
        },
        "outputId": "8c5ace6e-7c51-4745-a26e-ca5e83c77c54"
      },
      "source": [
        "star_wars[star_wars.columns[9:15]].sum()"
      ],
      "execution_count": 39,
      "outputs": [
        {
          "output_type": "execute_result",
          "data": {
            "text/plain": [
              "ranking_1    3739\n",
              "ranking_2    2718\n",
              "ranking_3    2177\n",
              "ranking_4    5257\n",
              "ranking_5    7321\n",
              "ranking_6    5540\n",
              "dtype: int64"
            ]
          },
          "metadata": {
            "tags": []
          },
          "execution_count": 39
        }
      ]
    },
    {
      "cell_type": "code",
      "metadata": {
        "id": "m-F9nt1XCQN1",
        "colab_type": "code",
        "colab": {
          "base_uri": "https://localhost:8080/",
          "height": 150
        },
        "outputId": "c99a9913-9ad7-4c20-91e2-38f8983153cf"
      },
      "source": [
        "pip install --upgrade matplotlib"
      ],
      "execution_count": 40,
      "outputs": [
        {
          "output_type": "stream",
          "text": [
            "Requirement already up-to-date: matplotlib in /usr/local/lib/python3.6/dist-packages (3.1.1)\n",
            "Requirement already satisfied, skipping upgrade: cycler>=0.10 in /usr/local/lib/python3.6/dist-packages (from matplotlib) (0.10.0)\n",
            "Requirement already satisfied, skipping upgrade: kiwisolver>=1.0.1 in /usr/local/lib/python3.6/dist-packages (from matplotlib) (1.1.0)\n",
            "Requirement already satisfied, skipping upgrade: python-dateutil>=2.1 in /usr/local/lib/python3.6/dist-packages (from matplotlib) (2.6.1)\n",
            "Requirement already satisfied, skipping upgrade: pyparsing!=2.0.4,!=2.1.2,!=2.1.6,>=2.0.1 in /usr/local/lib/python3.6/dist-packages (from matplotlib) (2.4.5)\n",
            "Requirement already satisfied, skipping upgrade: numpy>=1.11 in /usr/local/lib/python3.6/dist-packages (from matplotlib) (1.17.4)\n",
            "Requirement already satisfied, skipping upgrade: six in /usr/local/lib/python3.6/dist-packages (from cycler>=0.10->matplotlib) (1.12.0)\n",
            "Requirement already satisfied, skipping upgrade: setuptools in /usr/local/lib/python3.6/dist-packages (from kiwisolver>=1.0.1->matplotlib) (41.6.0)\n"
          ],
          "name": "stdout"
        }
      ]
    },
    {
      "cell_type": "code",
      "metadata": {
        "id": "4cJCY5B95fEv",
        "colab_type": "code",
        "colab": {
          "base_uri": "https://localhost:8080/",
          "height": 459
        },
        "outputId": "cb78cff1-b36d-4405-ecf1-631d0fddb091"
      },
      "source": [
        "fig = plt.figure(num=2, figsize=(10, 6),dpi=80)\n",
        "plt.style.use('ggplot')\n",
        "\n",
        "plt.barh(range(1,7),star_wars[star_wars.columns[9:15]].sum().sort_values(ascending=True),color=('#b4dbbe', '#94d4a5', '#79d191','#55c273','#3ca659','#188535'), edgecolor='black')\n",
        "plt.yticks(range(1,7),('Episode 3 : Revenge of the Sith', 'Episode 2 : Attack of the Clones', 'Episode 1: The Phantom Menace', 'Episode 4 : A New Hope', 'Episode 6 ; Return of the Jedi','Episode 5 : The Empire Strikes Back'),size=14)\n",
        "plt.title(\"What's your favorite Star Wars Movies?\",size = 24,color='darkblue')\n",
        "plt.ylabel('Star Wars films',size=14)\n",
        "plt.xlabel('Total Scores',size=14)\n",
        "plt.grid(True)\n",
        "#plt.yticklables(['3','2','1','4','6','5'])\n",
        "\n"
      ],
      "execution_count": 41,
      "outputs": [
        {
          "output_type": "display_data",
          "data": {
            "image/png": "[encoded data removed]",
            "text/plain": [
              "<Figure size 800x480 with 1 Axes>"
            ]
          },
          "metadata": {
            "tags": []
          }
        }
      ]
    },
    {
      "cell_type": "code",
      "metadata": {
        "id": "FT6isfVx7nT5",
        "colab_type": "code",
        "colab": {
          "base_uri": "https://localhost:8080/",
          "height": 214
        },
        "outputId": "77d9575c-4245-41fe-b267-2fccff0a661f"
      },
      "source": [
        "char = star_wars.columns[15:29]\n",
        "charactors = star_wars[char]\n",
        "charactors.head()"
      ],
      "execution_count": 49,
      "outputs": [
        {
          "output_type": "execute_result",
          "data": {
            "text/html": [
              "<div>\n",
              "<style scoped>\n",
              "    .dataframe tbody tr th:only-of-type {\n",
              "        vertical-align: middle;\n",
              "    }\n",
              "\n",
              "    .dataframe tbody tr th {\n",
              "        vertical-align: top;\n",
              "    }\n",
              "\n",
              "    .dataframe thead th {\n",
              "        text-align: right;\n",
              "    }\n",
              "</style>\n",
              "<table border=\"1\" class=\"dataframe\">\n",
              "  <thead>\n",
              "    <tr style=\"text-align: right;\">\n",
              "      <th></th>\n",
              "      <th>Han Solo</th>\n",
              "      <th>Luke Skywalker</th>\n",
              "      <th>Princess Leia Organa</th>\n",
              "      <th>Anakin Skywalker</th>\n",
              "      <th>Obi Wan Kenobi</th>\n",
              "      <th>Emperor Palpatine</th>\n",
              "      <th>Darth Vader</th>\n",
              "      <th>Lando Calrissian</th>\n",
              "      <th>Boba Fett</th>\n",
              "      <th>C-3P0</th>\n",
              "      <th>R2 D2</th>\n",
              "      <th>Jar Jar Binks</th>\n",
              "      <th>Padme Amidala</th>\n",
              "      <th>Yoda</th>\n",
              "    </tr>\n",
              "  </thead>\n",
              "  <tbody>\n",
              "    <tr>\n",
              "      <th>1</th>\n",
              "      <td>2.0</td>\n",
              "      <td>2.0</td>\n",
              "      <td>2.0</td>\n",
              "      <td>2.0</td>\n",
              "      <td>2.0</td>\n",
              "      <td>2.0</td>\n",
              "      <td>2.0</td>\n",
              "      <td>0.0</td>\n",
              "      <td>0.0</td>\n",
              "      <td>2.0</td>\n",
              "      <td>2.0</td>\n",
              "      <td>2.0</td>\n",
              "      <td>2.0</td>\n",
              "      <td>2.0</td>\n",
              "    </tr>\n",
              "    <tr>\n",
              "      <th>2</th>\n",
              "      <td>0.0</td>\n",
              "      <td>0.0</td>\n",
              "      <td>0.0</td>\n",
              "      <td>0.0</td>\n",
              "      <td>0.0</td>\n",
              "      <td>0.0</td>\n",
              "      <td>0.0</td>\n",
              "      <td>0.0</td>\n",
              "      <td>0.0</td>\n",
              "      <td>0.0</td>\n",
              "      <td>0.0</td>\n",
              "      <td>0.0</td>\n",
              "      <td>0.0</td>\n",
              "      <td>0.0</td>\n",
              "    </tr>\n",
              "    <tr>\n",
              "      <th>3</th>\n",
              "      <td>1.0</td>\n",
              "      <td>1.0</td>\n",
              "      <td>1.0</td>\n",
              "      <td>1.0</td>\n",
              "      <td>1.0</td>\n",
              "      <td>0.0</td>\n",
              "      <td>0.0</td>\n",
              "      <td>0.0</td>\n",
              "      <td>0.0</td>\n",
              "      <td>0.0</td>\n",
              "      <td>0.0</td>\n",
              "      <td>0.0</td>\n",
              "      <td>0.0</td>\n",
              "      <td>0.0</td>\n",
              "    </tr>\n",
              "    <tr>\n",
              "      <th>4</th>\n",
              "      <td>2.0</td>\n",
              "      <td>2.0</td>\n",
              "      <td>2.0</td>\n",
              "      <td>2.0</td>\n",
              "      <td>2.0</td>\n",
              "      <td>1.0</td>\n",
              "      <td>2.0</td>\n",
              "      <td>1.0</td>\n",
              "      <td>NaN</td>\n",
              "      <td>2.0</td>\n",
              "      <td>2.0</td>\n",
              "      <td>2.0</td>\n",
              "      <td>2.0</td>\n",
              "      <td>2.0</td>\n",
              "    </tr>\n",
              "    <tr>\n",
              "      <th>5</th>\n",
              "      <td>2.0</td>\n",
              "      <td>1.0</td>\n",
              "      <td>1.0</td>\n",
              "      <td>NaN</td>\n",
              "      <td>2.0</td>\n",
              "      <td>NaN</td>\n",
              "      <td>1.0</td>\n",
              "      <td>0.0</td>\n",
              "      <td>2.0</td>\n",
              "      <td>1.0</td>\n",
              "      <td>1.0</td>\n",
              "      <td>NaN</td>\n",
              "      <td>1.0</td>\n",
              "      <td>1.0</td>\n",
              "    </tr>\n",
              "  </tbody>\n",
              "</table>\n",
              "</div>"
            ],
            "text/plain": [
              "   Han Solo  Luke Skywalker  ...  Padme Amidala  Yoda\n",
              "1       2.0             2.0  ...            2.0   2.0\n",
              "2       0.0             0.0  ...            0.0   0.0\n",
              "3       1.0             1.0  ...            0.0   0.0\n",
              "4       2.0             2.0  ...            2.0   2.0\n",
              "5       2.0             1.0  ...            1.0   1.0\n",
              "\n",
              "[5 rows x 14 columns]"
            ]
          },
          "metadata": {
            "tags": []
          },
          "execution_count": 49
        }
      ]
    },
    {
      "cell_type": "code",
      "metadata": {
        "id": "qZiNYbBP6xz6",
        "colab_type": "code",
        "colab": {
          "base_uri": "https://localhost:8080/",
          "height": 467
        },
        "outputId": "df98f948-e9a8-4347-ef28-38e4160f72e1"
      },
      "source": [
        "c = charactors.sum().sort_values()\n",
        "df = pd.DataFrame(c,columns=['Scores'])\n",
        "df"
      ],
      "execution_count": 62,
      "outputs": [
        {
          "output_type": "execute_result",
          "data": {
            "text/html": [
              "<div>\n",
              "<style scoped>\n",
              "    .dataframe tbody tr th:only-of-type {\n",
              "        vertical-align: middle;\n",
              "    }\n",
              "\n",
              "    .dataframe tbody tr th {\n",
              "        vertical-align: top;\n",
              "    }\n",
              "\n",
              "    .dataframe thead th {\n",
              "        text-align: right;\n",
              "    }\n",
              "</style>\n",
              "<table border=\"1\" class=\"dataframe\">\n",
              "  <thead>\n",
              "    <tr style=\"text-align: right;\">\n",
              "      <th></th>\n",
              "      <th>Scores</th>\n",
              "    </tr>\n",
              "  </thead>\n",
              "  <tbody>\n",
              "    <tr>\n",
              "      <th>Jar Jar Binks</th>\n",
              "      <td>354.0</td>\n",
              "    </tr>\n",
              "    <tr>\n",
              "      <th>Emperor Palpatine</th>\n",
              "      <td>363.0</td>\n",
              "    </tr>\n",
              "    <tr>\n",
              "      <th>Boba Fett</th>\n",
              "      <td>429.0</td>\n",
              "    </tr>\n",
              "    <tr>\n",
              "      <th>Lando Calrissian</th>\n",
              "      <td>507.0</td>\n",
              "    </tr>\n",
              "    <tr>\n",
              "      <th>Padme Amidala</th>\n",
              "      <td>519.0</td>\n",
              "    </tr>\n",
              "    <tr>\n",
              "      <th>Anakin Skywalker</th>\n",
              "      <td>759.0</td>\n",
              "    </tr>\n",
              "    <tr>\n",
              "      <th>Darth Vader</th>\n",
              "      <td>791.0</td>\n",
              "    </tr>\n",
              "    <tr>\n",
              "      <th>C-3P0</th>\n",
              "      <td>1177.0</td>\n",
              "    </tr>\n",
              "    <tr>\n",
              "      <th>Princess Leia Organa</th>\n",
              "      <td>1304.0</td>\n",
              "    </tr>\n",
              "    <tr>\n",
              "      <th>R2 D2</th>\n",
              "      <td>1309.0</td>\n",
              "    </tr>\n",
              "    <tr>\n",
              "      <th>Luke Skywalker</th>\n",
              "      <td>1323.0</td>\n",
              "    </tr>\n",
              "    <tr>\n",
              "      <th>Obi Wan Kenobi</th>\n",
              "      <td>1341.0</td>\n",
              "    </tr>\n",
              "    <tr>\n",
              "      <th>Yoda</th>\n",
              "      <td>1354.0</td>\n",
              "    </tr>\n",
              "    <tr>\n",
              "      <th>Han Solo</th>\n",
              "      <td>1371.0</td>\n",
              "    </tr>\n",
              "  </tbody>\n",
              "</table>\n",
              "</div>"
            ],
            "text/plain": [
              "                      Scores\n",
              "Jar Jar Binks          354.0\n",
              "Emperor Palpatine      363.0\n",
              "Boba Fett              429.0\n",
              "Lando Calrissian       507.0\n",
              "Padme Amidala          519.0\n",
              "Anakin Skywalker       759.0\n",
              "Darth Vader            791.0\n",
              "C-3P0                 1177.0\n",
              "Princess Leia Organa  1304.0\n",
              "R2 D2                 1309.0\n",
              "Luke Skywalker        1323.0\n",
              "Obi Wan Kenobi        1341.0\n",
              "Yoda                  1354.0\n",
              "Han Solo              1371.0"
            ]
          },
          "metadata": {
            "tags": []
          },
          "execution_count": 62
        }
      ]
    },
    {
      "cell_type": "code",
      "metadata": {
        "id": "0dTRndix4iPh",
        "colab_type": "code",
        "colab": {
          "base_uri": "https://localhost:8080/",
          "height": 786
        },
        "outputId": "1bcaa40a-5884-4590-bc29-951fcd1263b5"
      },
      "source": [
        "import seaborn as sns\n",
        "fig = plt.figure(num=2, figsize=(10, 6),dpi=80)\n",
        "my_range=range(1,len(df.index)+1)\n",
        "plt.hlines(y=my_range, xmin=0, xmax=df['Scores'], color='#70aab8')\n",
        "plt.plot(df['Scores'], my_range, \"D\")\n",
        "plt.xlabel('\\n Total Scores',size=14)\n",
        "plt.ylabel('Characters Name',size=16,y=0.8)\n",
        "plt.title(\"\\n What's your favorite Star Wars Characters?\\n\",size = 24,color='darkblue',x=0.45,y=1)\n",
        "plt.yticks(my_range, ['Jar Jar Binks','Emperor Palpatine','Boba Fett','Lando Calrissian','Padme Amidala','Anakin Skywalker','Darth Vader','C-3P0','Princess Leia Organa','R2 D2','Luke Skywalker','Obi Wan Kenobi','Yoda','Han Solo'],size = 14)"
      ],
      "execution_count": 93,
      "outputs": [
        {
          "output_type": "execute_result",
          "data": {
            "text/plain": [
              "([<matplotlib.axis.YTick at 0x7f0257d28940>,\n",
              "  <matplotlib.axis.YTick at 0x7f0257d28278>,\n",
              "  <matplotlib.axis.YTick at 0x7f0257e19ef0>,\n",
              "  <matplotlib.axis.YTick at 0x7f0257d50550>,\n",
              "  <matplotlib.axis.YTick at 0x7f0257d509b0>,\n",
              "  <matplotlib.axis.YTick at 0x7f0257d50f28>,\n",
              "  <matplotlib.axis.YTick at 0x7f0257d594e0>,\n",
              "  <matplotlib.axis.YTick at 0x7f0257d504a8>,\n",
              "  <matplotlib.axis.YTick at 0x7f0257d59ba8>,\n",
              "  <matplotlib.axis.YTick at 0x7f0257d60080>,\n",
              "  <matplotlib.axis.YTick at 0x7f0257d605c0>,\n",
              "  <matplotlib.axis.YTick at 0x7f0257d60b38>,\n",
              "  <matplotlib.axis.YTick at 0x7f0257d66128>,\n",
              "  <matplotlib.axis.YTick at 0x7f0257d66668>],\n",
              " <a list of 14 Text yticklabel objects>)"
            ]
          },
          "metadata": {
            "tags": []
          },
          "execution_count": 93
        },
        {
          "output_type": "display_data",
          "data": {
            "image/png": "[encoded data removed]",
            "text/plain": [
              "<Figure size 800x480 with 1 Axes>"
            ]
          },
          "metadata": {
            "tags": []
          }
        }
      ]
    },
    {
      "cell_type": "code",
      "metadata": {
        "id": "7qeTltoQERTd",
        "colab_type": "code",
        "colab": {}
      },
      "source": [
        ""
      ],
      "execution_count": 0,
      "outputs": []
    }
  ]
}